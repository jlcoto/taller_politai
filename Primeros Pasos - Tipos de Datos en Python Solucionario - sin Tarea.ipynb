{
 "cells": [
  {
   "cell_type": "markdown",
   "metadata": {},
   "source": [
    "#Tipos de Datos en Python\n",
    "\n",
    "Toda la información que tipees en la consola de Python pertenece a una categoría de datos. Los tres tipos de datos más importantes son: integers - `int` [enteros], floating-point - `float` [decimales] y strings - `str`. Es importante tener en cuenta el tipo de datos ingresados, ya que cada uno de estos datos tienen métodos propios."
   ]
  },
  {
   "cell_type": "markdown",
   "metadata": {},
   "source": [
    "##Integers -  `int`\n",
    "Python puede trabajar con enteros tal como lo hace una calculadora. Usa el siguiente recuadro y digita alguna suma. Una vez que hayas digitado la suma presiona `Shift + Enter`."
   ]
  },
  {
   "cell_type": "code",
   "execution_count": 2,
   "metadata": {
    "collapsed": false
   },
   "outputs": [
    {
     "data": {
      "text/plain": [
       "4"
      ]
     },
     "execution_count": 2,
     "metadata": {},
     "output_type": "execute_result"
    }
   ],
   "source": [
    "2+2"
   ]
  },
  {
   "cell_type": "markdown",
   "metadata": {},
   "source": [
    "### Nota que (1)... (Orden de operaciones) \n",
    "Recuerdas el orden en que se ejecutan las operaciones cuando tienes múltiples operadores. ¿La palabra __PEMDAS__ te dice algo? \n",
    "- __P__aréntesis\n",
    "- __E__xponentes\n",
    "- __M__ultiplicación\n",
    "- __D__ivisión\n",
    "- __A__dición y __S__ustracción\n",
    "Este es el orden aritméticamente correcto de realizar las operaciones. Python sigue esta convención matemática. "
   ]
  },
  {
   "cell_type": "markdown",
   "metadata": {},
   "source": [
    "###Ejercicio 1... ¿Cómo van las mates?\n",
    "Antes de ejecutar el siguiente código, puedes decir cuál es el resultado.\n",
    "- `5+(3*-5) = ??`\n",
    "- `8**(1\\3)**3 = ??`\n",
    "- `4/2+5*3=??`\n",
    "- `2**5=??`\n",
    "\n"
   ]
  },
  {
   "cell_type": "code",
   "execution_count": 3,
   "metadata": {
    "collapsed": false
   },
   "outputs": [
    {
     "data": {
      "text/plain": [
       "-10"
      ]
     },
     "execution_count": 3,
     "metadata": {},
     "output_type": "execute_result"
    }
   ],
   "source": [
    "#Realiza las operaciones indicadas arriba\n",
    "5+(3*-5) "
   ]
  },
  {
   "cell_type": "code",
   "execution_count": 4,
   "metadata": {
    "collapsed": false
   },
   "outputs": [
    {
     "data": {
      "text/plain": [
       "1.080059738892306"
      ]
     },
     "execution_count": 4,
     "metadata": {},
     "output_type": "execute_result"
    }
   ],
   "source": [
    "8**(1/3)**3"
   ]
  },
  {
   "cell_type": "code",
   "execution_count": 5,
   "metadata": {
    "collapsed": false
   },
   "outputs": [
    {
     "data": {
      "text/plain": [
       "17.0"
      ]
     },
     "execution_count": 5,
     "metadata": {},
     "output_type": "execute_result"
    }
   ],
   "source": [
    "4/2+5*3"
   ]
  },
  {
   "cell_type": "code",
   "execution_count": 6,
   "metadata": {
    "collapsed": false
   },
   "outputs": [
    {
     "data": {
      "text/plain": [
       "32"
      ]
     },
     "execution_count": 6,
     "metadata": {},
     "output_type": "execute_result"
    }
   ],
   "source": [
    "2**5"
   ]
  },
  {
   "cell_type": "markdown",
   "metadata": {},
   "source": [
    "## Floating points - `floats`\n",
    "Los floating points representan a los números decimales. ¿Qué pasa cuando sumas un decimal y un entero? Escribe una operación en la celda de abajo. Truco: puedes usar la función `type()` para saber cuál es el tipo de dato usado."
   ]
  },
  {
   "cell_type": "code",
   "execution_count": 7,
   "metadata": {
    "collapsed": false
   },
   "outputs": [
    {
     "data": {
      "text/plain": [
       "float"
      ]
     },
     "execution_count": 7,
     "metadata": {},
     "output_type": "execute_result"
    }
   ],
   "source": [
    "#reconociendo tipos de datos con type()\n",
    "type(2+5.5)"
   ]
  },
  {
   "cell_type": "markdown",
   "metadata": {},
   "source": [
    "###Nota que (2)... (división: ¿ `int` o `float`?)\n",
    "Adevertencia: Dependiendo de la versión en la que trabajes, la división de dos enteros puede resultar en `int` o `float`. En la versión 2.7 la división de dos enteros dará como resultado un `int`. En la versión 3.4 la división de dos enteros da como resultado un `float`. Ten en cuenta la versión de Python en la que estás trabajando para que evites posibles errores."
   ]
  },
  {
   "cell_type": "code",
   "execution_count": 8,
   "metadata": {
    "collapsed": false
   },
   "outputs": [
    {
     "data": {
      "text/plain": [
       "float"
      ]
     },
     "execution_count": 8,
     "metadata": {},
     "output_type": "execute_result"
    }
   ],
   "source": [
    "#divide dos enteros y fíjate qué tipo de dato sale. Usa type().\n",
    "type(2/5)\n"
   ]
  },
  {
   "cell_type": "markdown",
   "metadata": {},
   "source": [
    "##Strings - `str`\n",
    "Las strings son muy divertidas. String es la manera en que Python se refiere a caracteres. `\"Hola, mundo\"` es un string. `\"Bienvenidos al Curso\"`, también. ¿Qué crees que es `\"785\"`?\n",
    "La manera de definir strings es muy fácil. Solo tienes que usar comillas simples (`''`) o dobles (`\"\"`). Trata de escribir tu nombre en la celda de abajo. "
   ]
  },
  {
   "cell_type": "code",
   "execution_count": 9,
   "metadata": {
    "collapsed": false
   },
   "outputs": [
    {
     "data": {
      "text/plain": [
       "'José Coto'"
      ]
     },
     "execution_count": 9,
     "metadata": {},
     "output_type": "execute_result"
    }
   ],
   "source": [
    "#Escribe tu nombre como string\n",
    "\"José Coto\""
   ]
  },
  {
   "cell_type": "code",
   "execution_count": 10,
   "metadata": {
    "collapsed": false
   },
   "outputs": [
    {
     "data": {
      "text/plain": [
       "'275'"
      ]
     },
     "execution_count": 10,
     "metadata": {},
     "output_type": "execute_result"
    }
   ],
   "source": [
    "\"275\""
   ]
  },
  {
   "cell_type": "markdown",
   "metadata": {},
   "source": [
    "###Ejercicio 2... Jugando con strings\n",
    "1. ¿Qué pasa si unes strings con operaciones matemáticas?\n",
    "2. ¿Puedes poner tu nombre en mayúsculas? Ahora pásalo a minúsculas. Una pista: Revisa la documentación sobre los métodos disponibles para strings [aquí](https://docs.python.org/3/library/stdtypes.html#string-methods).\n",
    "3. El archivo XXX tiene bastante texto. Puedes verlo usando la función `print(texto)`. Necesito que me digas si dentro del texto se encuentra la palabra `\"indeseable\"`, `\"testarudo\"` y `\"rompimos\"`. Pista: puedes verificar la pertenencia preguntándole a Python si la palabra esta `in` el texto dado..."
   ]
  },
  {
   "cell_type": "code",
   "execution_count": 11,
   "metadata": {
    "collapsed": false
   },
   "outputs": [
    {
     "data": {
      "text/plain": [
       "'Este es el curso'"
      ]
     },
     "execution_count": 11,
     "metadata": {},
     "output_type": "execute_result"
    }
   ],
   "source": [
    "#Mezclar strings con operaciones matemáticas\n",
    "\"Este\" + \" es el curso\""
   ]
  },
  {
   "cell_type": "code",
   "execution_count": 12,
   "metadata": {
    "collapsed": false
   },
   "outputs": [
    {
     "data": {
      "text/plain": [
       "'Este es el cursoEste es el cursoEste es el curso'"
      ]
     },
     "execution_count": 12,
     "metadata": {},
     "output_type": "execute_result"
    }
   ],
   "source": [
    "(\"Este\" + \" es el curso\")*3"
   ]
  },
  {
   "cell_type": "code",
   "execution_count": 13,
   "metadata": {
    "collapsed": false
   },
   "outputs": [
    {
     "data": {
      "text/plain": [
       "'JOSÉ'"
      ]
     },
     "execution_count": 13,
     "metadata": {},
     "output_type": "execute_result"
    }
   ],
   "source": [
    "#Poner nombre en mayúsculas\n",
    "\"José\".upper()"
   ]
  },
  {
   "cell_type": "code",
   "execution_count": 14,
   "metadata": {
    "collapsed": false
   },
   "outputs": [
    {
     "data": {
      "text/plain": [
       "'josé'"
      ]
     },
     "execution_count": 14,
     "metadata": {},
     "output_type": "execute_result"
    }
   ],
   "source": [
    "#Poner nombre en minúsculas\n",
    "\"José\".lower()"
   ]
  },
  {
   "cell_type": "code",
   "execution_count": 15,
   "metadata": {
    "collapsed": false
   },
   "outputs": [],
   "source": [
    "## Insertar file texto!!\n",
    "file_despedida = open('despedida', 'r')\n",
    "carta = file_despedida.read()\n"
   ]
  },
  {
   "cell_type": "code",
   "execution_count": 16,
   "metadata": {
    "collapsed": false
   },
   "outputs": [
    {
     "data": {
      "text/plain": [
       "-1"
      ]
     },
     "execution_count": 16,
     "metadata": {},
     "output_type": "execute_result"
    }
   ],
   "source": [
    "carta.find(\"indeseable\")"
   ]
  },
  {
   "cell_type": "code",
   "execution_count": 17,
   "metadata": {
    "collapsed": false
   },
   "outputs": [
    {
     "data": {
      "text/plain": [
       "79"
      ]
     },
     "execution_count": 17,
     "metadata": {},
     "output_type": "execute_result"
    }
   ],
   "source": [
    "carta.find(\"testarudo\")"
   ]
  },
  {
   "cell_type": "code",
   "execution_count": 18,
   "metadata": {
    "collapsed": false
   },
   "outputs": [
    {
     "data": {
      "text/plain": [
       "168"
      ]
     },
     "execution_count": 18,
     "metadata": {},
     "output_type": "execute_result"
    }
   ],
   "source": [
    "carta.find(\"rompimos\")"
   ]
  },
  {
   "cell_type": "code",
   "execution_count": 19,
   "metadata": {
    "collapsed": false
   },
   "outputs": [
    {
     "name": "stdout",
     "output_type": "stream",
     "text": [
      "Este es un mensaje de despedida. No pienso regresar contigo. Esta vez seré muy testarudo y mucho. Me engañaste más de una vez. Eso no tiene perdón. \n",
      "\n",
      "La última vez que rompimos me dijiste que era el final. Tienes razón. Es el final. \n",
      "\n",
      "Que te vaya bien.\n",
      "\n",
      "Suerte.\n",
      "\n",
      " \n",
      "\n"
     ]
    }
   ],
   "source": [
    "print(carta)"
   ]
  },
  {
   "cell_type": "code",
   "execution_count": 20,
   "metadata": {
    "collapsed": true
   },
   "outputs": [],
   "source": [
    "file_despedida.close()"
   ]
  },
  {
   "cell_type": "markdown",
   "metadata": {},
   "source": [
    "## Variables\n",
    "Python no pasaría de ser una calculadora si no pudiésemos asignar valores a variables. Asignar valores a variables es muy sencillo. Solo tienes que usar `\"=\"`. Nota que el tipo de la variable está relacionado con el valor que \"guarda\". Ejecuta el código de abajo y mira lo que obtienes."
   ]
  },
  {
   "cell_type": "code",
   "execution_count": 21,
   "metadata": {
    "collapsed": true
   },
   "outputs": [],
   "source": [
    "a = 12"
   ]
  },
  {
   "cell_type": "code",
   "execution_count": 22,
   "metadata": {
    "collapsed": true
   },
   "outputs": [],
   "source": [
    "b = 3"
   ]
  },
  {
   "cell_type": "code",
   "execution_count": 23,
   "metadata": {
    "collapsed": false
   },
   "outputs": [
    {
     "data": {
      "text/plain": [
       "4.0"
      ]
     },
     "execution_count": 23,
     "metadata": {},
     "output_type": "execute_result"
    }
   ],
   "source": [
    "a/b"
   ]
  },
  {
   "cell_type": "code",
   "execution_count": 24,
   "metadata": {
    "collapsed": true
   },
   "outputs": [],
   "source": [
    "saludo = \"Hola, qué tal \""
   ]
  },
  {
   "cell_type": "code",
   "execution_count": 25,
   "metadata": {
    "collapsed": false
   },
   "outputs": [
    {
     "data": {
      "text/plain": [
       "'Hola, qué tal Hola, qué tal Hola, qué tal '"
      ]
     },
     "execution_count": 25,
     "metadata": {},
     "output_type": "execute_result"
    }
   ],
   "source": [
    "saludo*3"
   ]
  },
  {
   "cell_type": "code",
   "execution_count": 26,
   "metadata": {
    "collapsed": false
   },
   "outputs": [
    {
     "data": {
      "text/plain": [
       "int"
      ]
     },
     "execution_count": 26,
     "metadata": {},
     "output_type": "execute_result"
    }
   ],
   "source": [
    "type(a)"
   ]
  },
  {
   "cell_type": "code",
   "execution_count": 27,
   "metadata": {
    "collapsed": false
   },
   "outputs": [
    {
     "data": {
      "text/plain": [
       "float"
      ]
     },
     "execution_count": 27,
     "metadata": {},
     "output_type": "execute_result"
    }
   ],
   "source": [
    "type(a/b)"
   ]
  },
  {
   "cell_type": "code",
   "execution_count": 28,
   "metadata": {
    "collapsed": false
   },
   "outputs": [
    {
     "data": {
      "text/plain": [
       "str"
      ]
     },
     "execution_count": 28,
     "metadata": {},
     "output_type": "execute_result"
    }
   ],
   "source": [
    "type(saludo)"
   ]
  },
  {
   "cell_type": "markdown",
   "metadata": {},
   "source": [
    "###Nota que (3)... (nombrando variables)\n",
    "Una de las cosas más difíciles a la hora de programar es inventar nombre de variables útiles. Una recomendación es que te digan algo sobre el valor que van a guardar. Python da amplia libertad para nombrar variables. Una regla importante es que estas no pueden empezar con números o contener @. No querrás utilizar nombres como `\"and\"`, `if`, etc. que tienen funciones importantes en Python."
   ]
  },
  {
   "cell_type": "code",
   "execution_count": 29,
   "metadata": {
    "collapsed": false
   },
   "outputs": [
    {
     "ename": "SyntaxError",
     "evalue": "invalid syntax (<ipython-input-29-3cd65ec0bff6>, line 1)",
     "output_type": "error",
     "traceback": [
      "\u001b[0;36m  File \u001b[0;32m\"<ipython-input-29-3cd65ec0bff6>\"\u001b[0;36m, line \u001b[0;32m1\u001b[0m\n\u001b[0;31m    45_jubilados = \"pan\"\u001b[0m\n\u001b[0m               ^\u001b[0m\n\u001b[0;31mSyntaxError\u001b[0m\u001b[0;31m:\u001b[0m invalid syntax\n"
     ]
    }
   ],
   "source": [
    "45_jubilados = \"pan\""
   ]
  },
  {
   "cell_type": "code",
   "execution_count": 30,
   "metadata": {
    "collapsed": false
   },
   "outputs": [
    {
     "ename": "SyntaxError",
     "evalue": "invalid syntax (<ipython-input-30-54978d819365>, line 1)",
     "output_type": "error",
     "traceback": [
      "\u001b[0;36m  File \u001b[0;32m\"<ipython-input-30-54978d819365>\"\u001b[0;36m, line \u001b[0;32m1\u001b[0m\n\u001b[0;31m    and = 2\u001b[0m\n\u001b[0m      ^\u001b[0m\n\u001b[0;31mSyntaxError\u001b[0m\u001b[0;31m:\u001b[0m invalid syntax\n"
     ]
    }
   ],
   "source": [
    "and = 2"
   ]
  },
  {
   "cell_type": "code",
   "execution_count": 31,
   "metadata": {
    "collapsed": false
   },
   "outputs": [
    {
     "ename": "SyntaxError",
     "evalue": "invalid syntax (<ipython-input-31-eb0fff360388>, line 1)",
     "output_type": "error",
     "traceback": [
      "\u001b[0;36m  File \u001b[0;32m\"<ipython-input-31-eb0fff360388>\"\u001b[0;36m, line \u001b[0;32m1\u001b[0m\n\u001b[0;31m    estimad@ = 243.4\u001b[0m\n\u001b[0m           ^\u001b[0m\n\u001b[0;31mSyntaxError\u001b[0m\u001b[0;31m:\u001b[0m invalid syntax\n"
     ]
    }
   ],
   "source": [
    "estimad@ = 243.4"
   ]
  },
  {
   "cell_type": "markdown",
   "metadata": {},
   "source": [
    "##Rebanando [slicing] strings (1)\n",
    "Las strings también pueden verse como un pan de molde. Puedes acceder a ciertos caracteres o rebanadas de la string de manera muy sencilla.\n",
    "Supón que quieres acceder a la primera letra de `\"Hola, soy estudiante de Python\"`.\n",
    "¿Qué te llama la atención del siguiente código? (Pista: fíjate en el número)\n"
   ]
  },
  {
   "cell_type": "code",
   "execution_count": 32,
   "metadata": {
    "collapsed": false
   },
   "outputs": [
    {
     "data": {
      "text/plain": [
       "'H'"
      ]
     },
     "execution_count": 32,
     "metadata": {},
     "output_type": "execute_result"
    }
   ],
   "source": [
    "saludo = \"Hola, soy estudiante de Python\"\n",
    "saludo[0]"
   ]
  },
  {
   "cell_type": "code",
   "execution_count": 33,
   "metadata": {
    "collapsed": false
   },
   "outputs": [
    {
     "data": {
      "text/plain": [
       "'a'"
      ]
     },
     "execution_count": 33,
     "metadata": {},
     "output_type": "execute_result"
    }
   ],
   "source": [
    "saludo[3]"
   ]
  },
  {
   "cell_type": "markdown",
   "metadata": {},
   "source": [
    "##Rebanando [slicing] strings (2)\n",
    "¿Qué pasa si quieres acceder a más de un caracter de la string? Fíjate lo que hace el código de abajo. ¿Qué notas en relación a los números?"
   ]
  },
  {
   "cell_type": "code",
   "execution_count": 34,
   "metadata": {
    "collapsed": false
   },
   "outputs": [
    {
     "data": {
      "text/plain": [
       "'Hol'"
      ]
     },
     "execution_count": 34,
     "metadata": {},
     "output_type": "execute_result"
    }
   ],
   "source": [
    "saludo[:3]"
   ]
  },
  {
   "cell_type": "code",
   "execution_count": 35,
   "metadata": {
    "collapsed": false
   },
   "outputs": [
    {
     "data": {
      "text/plain": [
       "'a, soy estudiante de Python'"
      ]
     },
     "execution_count": 35,
     "metadata": {},
     "output_type": "execute_result"
    }
   ],
   "source": [
    "saludo[3:]"
   ]
  },
  {
   "cell_type": "code",
   "execution_count": 36,
   "metadata": {
    "collapsed": false
   },
   "outputs": [
    {
     "data": {
      "text/plain": [
       "'Hola, soy estudiante de Python'"
      ]
     },
     "execution_count": 36,
     "metadata": {},
     "output_type": "execute_result"
    }
   ],
   "source": [
    "saludo[:]"
   ]
  },
  {
   "cell_type": "code",
   "execution_count": 37,
   "metadata": {
    "collapsed": false
   },
   "outputs": [
    {
     "data": {
      "text/plain": [
       "'la,'"
      ]
     },
     "execution_count": 37,
     "metadata": {},
     "output_type": "execute_result"
    }
   ],
   "source": [
    "saludo[2:5]"
   ]
  },
  {
   "cell_type": "code",
   "execution_count": 38,
   "metadata": {
    "collapsed": false
   },
   "outputs": [
    {
     "data": {
      "text/plain": [
       "'Hl,syetdat ePto'"
      ]
     },
     "execution_count": 38,
     "metadata": {},
     "output_type": "execute_result"
    }
   ],
   "source": [
    "saludo[::2]"
   ]
  },
  {
   "cell_type": "code",
   "execution_count": 39,
   "metadata": {
    "collapsed": false
   },
   "outputs": [
    {
     "data": {
      "text/plain": [
       "'n'"
      ]
     },
     "execution_count": 39,
     "metadata": {},
     "output_type": "execute_result"
    }
   ],
   "source": [
    "saludo[-1]"
   ]
  },
  {
   "cell_type": "code",
   "execution_count": 40,
   "metadata": {
    "collapsed": false
   },
   "outputs": [
    {
     "data": {
      "text/plain": [
       "'y estudiante de Pytho'"
      ]
     },
     "execution_count": 40,
     "metadata": {},
     "output_type": "execute_result"
    }
   ],
   "source": [
    "saludo[8:-1]"
   ]
  },
  {
   "cell_type": "code",
   "execution_count": 41,
   "metadata": {
    "collapsed": false
   },
   "outputs": [
    {
     "data": {
      "text/plain": [
       "'ytho'"
      ]
     },
     "execution_count": 41,
     "metadata": {},
     "output_type": "execute_result"
    }
   ],
   "source": [
    "saludo[-5:-1]"
   ]
  },
  {
   "cell_type": "markdown",
   "metadata": {},
   "source": [
    "##Retos\n",
    "1. Trata de retornar toda la string a la inversa. Tu resultado debe ser el siguiente: `'nohtyP ed etnaidutse yos ,aloH'`\n",
    "2. Rebana y suma strings. Trata de obtener un texto que diga: `\"Soy esudiante de Python, hola\"` a partir de la variable `saludo`. Tu resultado debe respetar mayúsculas y minúsculas.\n"
   ]
  },
  {
   "cell_type": "code",
   "execution_count": 42,
   "metadata": {
    "collapsed": false
   },
   "outputs": [
    {
     "data": {
      "text/plain": [
       "'nohtyP ed etnaidutse yos ,aloH'"
      ]
     },
     "execution_count": 42,
     "metadata": {},
     "output_type": "execute_result"
    }
   ],
   "source": [
    "saludo[::-1]"
   ]
  },
  {
   "cell_type": "code",
   "execution_count": 43,
   "metadata": {
    "collapsed": false
   },
   "outputs": [
    {
     "data": {
      "text/plain": [
       "'Soy estudiante de Python, hola'"
      ]
     },
     "execution_count": 43,
     "metadata": {},
     "output_type": "execute_result"
    }
   ],
   "source": [
    "saludo[6: 23].capitalize() + \" \" +  saludo[24:] + saludo[saludo.find(\",\")] + \" \"  \\\n",
    "+ saludo[:4].lower()"
   ]
  },
  {
   "cell_type": "markdown",
   "metadata": {},
   "source": [
    "## `print( )`\n",
    "La función `print( )` es de mucha utilidad en Python. Básicamente le dice a Python que imprima en la consola el contenido de una variable. Nota que el uso del comando `print` difiere en las versiones 2.7 y 3.4 de Python. Así evitarás errores. \n",
    "\n",
    "Para que veas cómo funciona, imprime la variable `saludo`. Imprime tu nombre."
   ]
  },
  {
   "cell_type": "code",
   "execution_count": 44,
   "metadata": {
    "collapsed": false
   },
   "outputs": [
    {
     "name": "stdout",
     "output_type": "stream",
     "text": [
      "Hola, soy estudiante de Python\n"
     ]
    }
   ],
   "source": [
    "#Imprimir el saludo\n",
    "print(saludo)\n"
   ]
  },
  {
   "cell_type": "markdown",
   "metadata": {},
   "source": [
    "A veces vas a querer dar un formato a lo que imprimes en pantalla. Esto es fácil de lograr usando el método `.format()`. Abajo hay un ejemplo de cómo es que puedes usarlo. \n",
    "\n",
    "Nota que la manera en que uno da formato a las variables se modificó con `Python 3.x`, ten en cuenta esto si estás trabajando en versiones anteriores."
   ]
  },
  {
   "cell_type": "code",
   "execution_count": 45,
   "metadata": {
    "collapsed": false
   },
   "outputs": [
    {
     "data": {
      "text/plain": [
       "'Este es el saludo que hemos aprendido hasta ahora: Hola, soy estudiante de Python'"
      ]
     },
     "execution_count": 45,
     "metadata": {},
     "output_type": "execute_result"
    }
   ],
   "source": [
    "#\"{}: {}\".format(\"Este es el saludo que hemos aprendido hasta ahora\", saludo)\n",
    "\"{}: {}\".format(\"Este es el saludo que hemos aprendido hasta ahora\", saludo)"
   ]
  },
  {
   "cell_type": "markdown",
   "metadata": {},
   "source": [
    "Tambíen puedes pasar resultados de cálculos a la `string` que quieres mostrar al usuario. Si estás trabajando con números puedes limitar la cantidad de decimales mostrados.\n",
    "\n",
    "##Mini reto\n",
    "Crea una variable `decimales` que contenga el cálculo de `1/3`. Ahora crea otra varible `introduccion` que señale: `\"El calculo requerido es:\"`. Junta todo en una `string` usando el método `mi_string.format( )`. El cálculo de la cantidad deberá limitarse a tres decimales. Pista: al momento de poner las llaves usa lo siguiente para la cantidad que vas a pasar `{1:.3f}`\n"
   ]
  },
  {
   "cell_type": "code",
   "execution_count": 46,
   "metadata": {
    "collapsed": false
   },
   "outputs": [
    {
     "data": {
      "text/plain": [
       "'El cálculo requerido es::0.333'"
      ]
     },
     "execution_count": 46,
     "metadata": {},
     "output_type": "execute_result"
    }
   ],
   "source": [
    "decimales = 1/3\n",
    "\"{0}:{1:.3f}\".format(\"El cálculo requerido es:\", decimales)"
   ]
  },
  {
   "cell_type": "markdown",
   "metadata": {},
   "source": [
    "##Listas - `list`\n",
    "Las listas son un tipo de dato clave en Python. En las listas puedes guardar todo tipo de infomación: `int`, `float` y `str`. Son tan versátiles que incluso los elementos de las listas pueden ser otras listas, diccionarios o tuples. Pero esto lo veremos más adelante.\n",
    "Para crear una lista solo necesitas usar corchetes `[]`. Una característica que separa a las listas de otro tipo de secuencias -específicamente los `tuples`- es que sus elementos pueden ser modificados."
   ]
  },
  {
   "cell_type": "code",
   "execution_count": 47,
   "metadata": {
    "collapsed": false
   },
   "outputs": [
    {
     "name": "stdout",
     "output_type": "stream",
     "text": [
      "[0, 1, 2, 3]\n",
      "[0.5, 0.87, 0.546]\n",
      "['abc', 'def', 'ghi']\n",
      "[0, 0.87, 'abc']\n"
     ]
    }
   ],
   "source": [
    "lista_int = [0, 1, 2, 3]\n",
    "print(lista_int)\n",
    "lista_float = [0.5, 0.87, 0.546]\n",
    "print(lista_float)\n",
    "lista_str = [\"abc\", \"def\", \"ghi\"]\n",
    "print(lista_str)\n",
    "lista_mix = [0, 0.87, \"abc\"]\n",
    "print(lista_mix)"
   ]
  },
  {
   "cell_type": "markdown",
   "metadata": {
    "collapsed": true
   },
   "source": [
    "##Listas e índices\n",
    "Al igual que en el caso de `strings` se puden acceder a elementos de las listas usando índices. Fíjate lo que sucede con el código de abajo."
   ]
  },
  {
   "cell_type": "code",
   "execution_count": 48,
   "metadata": {
    "collapsed": false
   },
   "outputs": [
    {
     "name": "stdout",
     "output_type": "stream",
     "text": [
      "La posición 1 es: 1\n",
      "La posición 5 es: 5\n"
     ]
    }
   ],
   "source": [
    "lista_grande = [0, 1 , 2, 3, 4, 5, 6, 7, 8, 9, 10]\n",
    "print('{}: {}'.format(\"La posición 1 es\", lista_grande[1]))\n",
    "print('{}: {}'.format(\"La posición 5 es\", lista_grande[5]))"
   ]
  },
  {
   "cell_type": "markdown",
   "metadata": {},
   "source": [
    "###Nota que (4)... (obteniendo lista de números consecutivos)\n",
    "Una manera más rápida de obtener una lista de números consecutivos es con la función `range()`. Nota que para que obtengas una lista debes usar `list(range(número))`. La forma general de la función range es `range(comienzo, fin[, salto])`. Nota que solo se pueden usar `ints`"
   ]
  },
  {
   "cell_type": "code",
   "execution_count": 49,
   "metadata": {
    "collapsed": false
   },
   "outputs": [
    {
     "name": "stdout",
     "output_type": "stream",
     "text": [
      "[0, 1, 2, 3, 4, 5, 6, 7, 8, 9, 10, 11, 12, 13, 14, 15, 16, 17, 18, 19, 20, 21, 22, 23, 24, 25, 26, 27, 28, 29, 30, 31, 32, 33, 34, 35, 36, 37, 38, 39, 40, 41, 42, 43, 44, 45, 46, 47, 48, 49, 50, 51, 52, 53, 54, 55, 56, 57, 58, 59, 60, 61, 62, 63, 64, 65, 66, 67, 68, 69, 70, 71, 72, 73, 74, 75, 76, 77, 78, 79, 80, 81, 82, 83, 84, 85, 86, 87, 88, 89, 90, 91, 92, 93, 94, 95, 96, 97, 98, 99]\n",
      "[0, 2, 4, 6, 8, 10, 12, 14, 16, 18, 20, 22, 24, 26, 28, 30, 32, 34, 36, 38, 40, 42, 44, 46, 48, 50, 52, 54, 56, 58, 60, 62, 64, 66, 68, 70, 72, 74, 76, 78, 80, 82, 84, 86, 88, 90, 92, 94, 96, 98]\n"
     ]
    }
   ],
   "source": [
    "super_lista = list(range(100))\n",
    "super_lista_2 = list(range(0,100, 2))\n",
    "print(super_lista)\n",
    "print(super_lista_2)"
   ]
  },
  {
   "cell_type": "markdown",
   "metadata": {},
   "source": [
    "Ahora que sabes cómo acceder a caracteres de string por medio de índices, usa estos conocimientos para acceder a los elementos de la lista. \n",
    "####Pon a prueba tus conocimientos...\n",
    "Puedes usar tu conocimiento de índices para generar una lista sobre la base de `super_lista` que tenga los mismos elementos que la `super_lista_2`. Chequea tú mismo si estás en lo correcto. Compara las catidades obtenidas con `==`. Deberías obtener `True` como respuesta."
   ]
  },
  {
   "cell_type": "code",
   "execution_count": 50,
   "metadata": {
    "collapsed": false
   },
   "outputs": [
    {
     "data": {
      "text/plain": [
       "True"
      ]
     },
     "execution_count": 50,
     "metadata": {},
     "output_type": "execute_result"
    }
   ],
   "source": [
    "super_lista[::2] == super_lista_2"
   ]
  },
  {
   "cell_type": "markdown",
   "metadata": {},
   "source": [
    "## Métodos para listas\n",
    "#### Reemplazando y removiendo elementos de la lista:\n",
    "Puedes usar tus conocimientos de índices para reemplazar elementos de la lista. Por ejemplo, imagínate que quieres reemplazar los primeros tres números de la `super_lista` por `\"cero\"`, `\"uno\"` y `\"dos\"`. \n"
   ]
  },
  {
   "cell_type": "code",
   "execution_count": 51,
   "metadata": {
    "collapsed": false
   },
   "outputs": [
    {
     "name": "stdout",
     "output_type": "stream",
     "text": [
      "['cero', 'uno', 'dos', 3, 4, 5, 6, 7, 8, 9, 10, 11, 12, 13, 14, 15, 16, 17, 18, 19, 20, 21, 22, 23, 24, 25, 26, 27, 28, 29, 30, 31, 32, 33, 34, 35, 36, 37, 38, 39, 40, 41, 42, 43, 44, 45, 46, 47, 48, 49, 50, 51, 52, 53, 54, 55, 56, 57, 58, 59, 60, 61, 62, 63, 64, 65, 66, 67, 68, 69, 70, 71, 72, 73, 74, 75, 76, 77, 78, 79, 80, 81, 82, 83, 84, 85, 86, 87, 88, 89, 90, 91, 92, 93, 94, 95, 96, 97, 98, 99]\n"
     ]
    }
   ],
   "source": [
    "super_lista[:3] = \"cero\", \"uno\", \"dos\"\n",
    "print(super_lista)"
   ]
  },
  {
   "cell_type": "markdown",
   "metadata": {},
   "source": [
    "###Nota que (5)... (cambiando más de un elemento)\n",
    "Ahora cambia el cuarto elemento por `[\"cero\"`, `\"uno\"`, `\"dos\"]` (entre corchetes `[]`). ¿Sabes por qué sucede esto? Inténtalo en el siguiente recuadro:"
   ]
  },
  {
   "cell_type": "code",
   "execution_count": 52,
   "metadata": {
    "collapsed": false
   },
   "outputs": [
    {
     "name": "stdout",
     "output_type": "stream",
     "text": [
      "['cero', 'uno', 'dos', 3, ['cero', 'uno', 'dos'], 5, 6, 7, 8, 9, 10, 11, 12, 13, 14, 15, 16, 17, 18, 19, 20, 21, 22, 23, 24, 25, 26, 27, 28, 29, 30, 31, 32, 33, 34, 35, 36, 37, 38, 39, 40, 41, 42, 43, 44, 45, 46, 47, 48, 49, 50, 51, 52, 53, 54, 55, 56, 57, 58, 59, 60, 61, 62, 63, 64, 65, 66, 67, 68, 69, 70, 71, 72, 73, 74, 75, 76, 77, 78, 79, 80, 81, 82, 83, 84, 85, 86, 87, 88, 89, 90, 91, 92, 93, 94, 95, 96, 97, 98, 99]\n"
     ]
    }
   ],
   "source": [
    "super_lista[4] = [\"cero\", \"uno\", \"dos\"]\n",
    "print(super_lista)"
   ]
  },
  {
   "cell_type": "markdown",
   "metadata": {},
   "source": [
    "*Usando `del`*\n",
    "\n",
    "Ahora, imagina que no quieres reemplazar si no quieres remover los elementos de la lista. Para esto solo tienes que usar el comando `del`, seleccionando aquellos elementos que quieres eliminar. Por ejemplo `del super_lista[0]`, elimina el primer elemento de la lista. \n",
    "\n",
    "Elimina el cambio que realizaste en la celda anterior en la que cambiaste los enteros por las string `\"cero\"`, `\"uno\"` y `\"dos\"` y la lista que contiene los strings."
   ]
  },
  {
   "cell_type": "code",
   "execution_count": 53,
   "metadata": {
    "collapsed": false
   },
   "outputs": [
    {
     "name": "stdout",
     "output_type": "stream",
     "text": [
      "[5, 6, 7, 8, 9, 10, 11, 12, 13, 14, 15, 16, 17, 18, 19, 20, 21, 22, 23, 24, 25, 26, 27, 28, 29, 30, 31, 32, 33, 34, 35, 36, 37, 38, 39, 40, 41, 42, 43, 44, 45, 46, 47, 48, 49, 50, 51, 52, 53, 54, 55, 56, 57, 58, 59, 60, 61, 62, 63, 64, 65, 66, 67, 68, 69, 70, 71, 72, 73, 74, 75, 76, 77, 78, 79, 80, 81, 82, 83, 84, 85, 86, 87, 88, 89, 90, 91, 92, 93, 94, 95, 96, 97, 98, 99]\n"
     ]
    }
   ],
   "source": [
    "del super_lista[:5]\n",
    "print(super_lista)"
   ]
  },
  {
   "cell_type": "markdown",
   "metadata": {},
   "source": [
    "Puedes obtener el mismo resultado que `del` de la siguiente manera:\n",
    "`super_lista[:5] = [ ]`"
   ]
  },
  {
   "cell_type": "markdown",
   "metadata": {},
   "source": [
    "*Usando `remove`: `nombre_lista.remove(x)`*\n",
    "\n",
    "Una forma alternativa de boorar elementos de una lista es hacerlo por el valor del elemento a borrar. En este caso Python buscará el __primer elemento__ cuyo valor sea igual al dado y lo eliminará de la lista.\n",
    "\n",
    "1. En la lista  `miembros_club`  de abajo, elimina a `Pepa`. \n",
    "2. Imprime nuevamente la lista y mira lo que ha sucedido."
   ]
  },
  {
   "cell_type": "code",
   "execution_count": 54,
   "metadata": {
    "collapsed": false
   },
   "outputs": [],
   "source": [
    "miembros_club = [\"Auri\", \"Paqui\", \"Riqui\", \"Michi\", \"Mau\", \"Pepe\", \"Pepa\", \n",
    "                 \"Clara\", \"Lara\", \"Pepa\"]"
   ]
  },
  {
   "cell_type": "code",
   "execution_count": 55,
   "metadata": {
    "collapsed": false
   },
   "outputs": [
    {
     "name": "stdout",
     "output_type": "stream",
     "text": [
      "['Auri', 'Paqui', 'Riqui', 'Michi', 'Mau', 'Pepe', 'Clara', 'Lara', 'Pepa']\n"
     ]
    }
   ],
   "source": [
    "miembros_club.remove(\"Pepa\")\n",
    "print(miembros_club)"
   ]
  },
  {
   "cell_type": "markdown",
   "metadata": {},
   "source": [
    "*Usando `pop`: `nombre_lista.pop(x)`*\n",
    "\n",
    "`nombre_lista.pop(x)` remueve el elemento de la lista en el índice `x`. Adicionalmente, retorna el valor eliminado al usuario. Vas a ver lo útil que resulta este método cuando tengamos la oportunidad de ver un poco más sobre loops. Si no asignas un índice a `nombre_lista.pop(x)`, eliminará el último término de la lista. \n",
    "\n",
    "1. Usa la lista `miembros_club` y elimina el segundo elemento. \n",
    "2. Elimina a `Pepa` de la lista."
   ]
  },
  {
   "cell_type": "code",
   "execution_count": 56,
   "metadata": {
    "collapsed": false
   },
   "outputs": [
    {
     "data": {
      "text/plain": [
       "'Paqui'"
      ]
     },
     "execution_count": 56,
     "metadata": {},
     "output_type": "execute_result"
    }
   ],
   "source": [
    "#miembros_club.pop()\n",
    "miembros_club.pop(1)"
   ]
  },
  {
   "cell_type": "code",
   "execution_count": 57,
   "metadata": {
    "collapsed": false
   },
   "outputs": [
    {
     "name": "stdout",
     "output_type": "stream",
     "text": [
      "['Auri', 'Riqui', 'Michi', 'Mau', 'Pepe', 'Clara', 'Lara', 'Pepa']\n"
     ]
    }
   ],
   "source": [
    "print(miembros_club)"
   ]
  },
  {
   "cell_type": "code",
   "execution_count": 58,
   "metadata": {
    "collapsed": false
   },
   "outputs": [
    {
     "data": {
      "text/plain": [
       "'Pepa'"
      ]
     },
     "execution_count": 58,
     "metadata": {},
     "output_type": "execute_result"
    }
   ],
   "source": [
    "#miembros_club.pop()\n",
    "miembros_club.pop()"
   ]
  },
  {
   "cell_type": "code",
   "execution_count": 59,
   "metadata": {
    "collapsed": false
   },
   "outputs": [
    {
     "name": "stdout",
     "output_type": "stream",
     "text": [
      "['Auri', 'Riqui', 'Michi', 'Mau', 'Pepe', 'Clara', 'Lara']\n"
     ]
    }
   ],
   "source": [
    "print(miembros_club)"
   ]
  },
  {
   "cell_type": "markdown",
   "metadata": {},
   "source": [
    "###Agregando elementos a la lista\n",
    "Agregar elementos a una lista puede ser tan sencillo como usar una operación algebraica `+`. Sin embargo, Python también cuenta con dos métodos para añadir elementos a una lista `nombre_lista.append(x)` y `nombre_lista.extend(x)`. Estos dos métodos tienen objetivos diferentes.\n",
    "\n",
    "1. Suma las listas a y b y mira el resultado que obtienes.\n",
    "2. Supón que hay tres nuevos integrantes en el club: `\"Titi\", \"Tita\", \"Mari\"`. Usa append y extend para incluirlas en la lista `miembros_club`. Nota que para usar extend necesitarás poner los elementos que quieres incluir en una lista. ¿En qué posición se agregan los nuevos elementos?"
   ]
  },
  {
   "cell_type": "code",
   "execution_count": 60,
   "metadata": {
    "collapsed": false
   },
   "outputs": [
    {
     "name": "stdout",
     "output_type": "stream",
     "text": [
      "[1, 2, 3, 4, 5, 6]\n"
     ]
    }
   ],
   "source": [
    "a = [1,2,3]\n",
    "b = [4,5,6]\n",
    "print(a+b)\n"
   ]
  },
  {
   "cell_type": "code",
   "execution_count": 61,
   "metadata": {
    "collapsed": false
   },
   "outputs": [
    {
     "ename": "TypeError",
     "evalue": "append() takes exactly one argument (3 given)",
     "output_type": "error",
     "traceback": [
      "\u001b[0;31m---------------------------------------------------------------------------\u001b[0m",
      "\u001b[0;31mTypeError\u001b[0m                                 Traceback (most recent call last)",
      "\u001b[0;32m<ipython-input-61-a55a8fb06ebc>\u001b[0m in \u001b[0;36m<module>\u001b[0;34m()\u001b[0m\n\u001b[0;32m----> 1\u001b[0;31m \u001b[0mmiembros_club\u001b[0m\u001b[0;34m.\u001b[0m\u001b[0mappend\u001b[0m\u001b[0;34m(\u001b[0m\u001b[0;34m\"Titi\"\u001b[0m\u001b[0;34m,\u001b[0m \u001b[0;34m\"Tita\"\u001b[0m\u001b[0;34m,\u001b[0m \u001b[0;34m\"Mary\"\u001b[0m\u001b[0;34m)\u001b[0m\u001b[0;34m\u001b[0m\u001b[0m\n\u001b[0m",
      "\u001b[0;31mTypeError\u001b[0m: append() takes exactly one argument (3 given)"
     ]
    }
   ],
   "source": [
    "miembros_club.append(\"Titi\", \"Tita\", \"Mary\")"
   ]
  },
  {
   "cell_type": "code",
   "execution_count": 62,
   "metadata": {
    "collapsed": false
   },
   "outputs": [
    {
     "name": "stdout",
     "output_type": "stream",
     "text": [
      "['Auri', 'Riqui', 'Michi', 'Mau', 'Pepe', 'Clara', 'Lara', ['Titi', 'Tita', 'Mary']]\n"
     ]
    }
   ],
   "source": [
    "miembros_club.append([\"Titi\", \"Tita\", \"Mary\"])\n",
    "print(miembros_club)"
   ]
  },
  {
   "cell_type": "code",
   "execution_count": 63,
   "metadata": {
    "collapsed": false
   },
   "outputs": [
    {
     "name": "stdout",
     "output_type": "stream",
     "text": [
      "['Auri', 'Riqui', 'Michi', 'Mau', 'Pepe', 'Clara', 'Lara', ['Titi', 'Tita', 'Mary'], 'Titi', 'Tita', 'Mary']\n"
     ]
    }
   ],
   "source": [
    "miembros_club.extend([\"Titi\", \"Tita\", \"Mary\"])\n",
    "print(miembros_club)"
   ]
  },
  {
   "cell_type": "markdown",
   "metadata": {},
   "source": [
    "###Ordenando listas\n",
    "Se ha convocado a una asamblea de miembros del club. Tú eres el secretario y tienes que pasar la lista. Asegúrate de que los miembros estén en orden alfabético. Pista: tal vez querrás usar el método `nombre_lista.sort( )`.  También puedes usar la función `sorted( )`. ¿Sabes cuál es la diferencia entre ambas. Trata de averiguarlo.\n",
    "\n",
    "Usa la lista original de miembros de abajo."
   ]
  },
  {
   "cell_type": "code",
   "execution_count": 64,
   "metadata": {
    "collapsed": false
   },
   "outputs": [
    {
     "data": {
      "text/plain": [
       "['Auri',\n",
       " 'Clara',\n",
       " 'Lara',\n",
       " 'Mau',\n",
       " 'Michi',\n",
       " 'Paqui',\n",
       " 'Pepa',\n",
       " 'Pepa',\n",
       " 'Pepe',\n",
       " 'Riqui']"
      ]
     },
     "execution_count": 64,
     "metadata": {},
     "output_type": "execute_result"
    }
   ],
   "source": [
    "miembros_club = [\"Auri\", \"Paqui\", \"Riqui\", \"Michi\", \"Mau\", \"Pepe\", \"Pepa\", \n",
    "                 \"Clara\", \"Lara\", \"Pepa\"]\n",
    "sorted(miembros_club)"
   ]
  },
  {
   "cell_type": "code",
   "execution_count": 65,
   "metadata": {
    "collapsed": false
   },
   "outputs": [
    {
     "name": "stdout",
     "output_type": "stream",
     "text": [
      "['Auri', 'Paqui', 'Riqui', 'Michi', 'Mau', 'Pepe', 'Pepa', 'Clara', 'Lara', 'Pepa']\n"
     ]
    }
   ],
   "source": [
    "print(miembros_club)"
   ]
  },
  {
   "cell_type": "code",
   "execution_count": 66,
   "metadata": {
    "collapsed": false
   },
   "outputs": [
    {
     "name": "stdout",
     "output_type": "stream",
     "text": [
      "['Auri', 'Clara', 'Lara', 'Mau', 'Michi', 'Paqui', 'Pepa', 'Pepa', 'Pepe', 'Riqui']\n"
     ]
    }
   ],
   "source": [
    "miembros_club.sort()\n",
    "print(miembros_club)"
   ]
  },
  {
   "cell_type": "markdown",
   "metadata": {},
   "source": [
    "##Listas y strings\n",
    "Imagina que quieres acceder a una palabra que está en un texto largo. Una manera de hacerlo es contando los índices donde se encuentra la palabra y extrayéndola. Este método a la larga resulta complicado y poco trazable (¡Imagina si necesitas obtener más de una palabra!) Otra forma es dividir el texto por palabras y crear una lista.\n",
    "\n",
    "El método `str.split(sep=None)` te permitirá hacerlo. Si no se señala una sepación, esta será los espacios vacíos entre las palabras. \n",
    "\n",
    "###Ejercicio\n",
    "Descubre el mensaje secreto. En el texto de abajo existe un mensaje secreto. Solo lo descubrirás si te quedas con cada tres palabras del texto (i.e. extrae cada tercera palabra del texto)\n"
   ]
  },
  {
   "cell_type": "code",
   "execution_count": 67,
   "metadata": {
    "collapsed": false
   },
   "outputs": [
    {
     "name": "stdout",
     "output_type": "stream",
     "text": [
      "['Bienvenido', 'Hola.', 'gracias.', 'por', 'Asistir', 'al', 'curso']\n"
     ]
    }
   ],
   "source": [
    "mensaje_secreto = \"Bienvenido aquí terrícola. Hola. Tú, da gracias. La vida por andar debes.\\\\\n",
    "                  Asistir con alegría al amanecer. Qué curso deber recorrer.\"\n",
    "print(mensaje_secreto.split()[::3])\n"
   ]
  },
  {
   "cell_type": "markdown",
   "metadata": {},
   "source": [
    "##Diccionarios - `dict`\n",
    "Los diccionarios pueden tomarse como una secuencia que nos permite guardar valores donde existe una relación entre la *llave* [key] y el *valor* [key - value pairs]. Un ejemplo concreto de información tipo diccionario es una guía telefónica, donde cada nombre se relaciona con un número de teléfono. Pese a que `Python` retorna el diccionario ordenado, los diccionarios no tienen un orden. \n",
    "\n",
    "Regresemos nuevamente al caso del club. Supongan que queremos relacionar a cada miembro de nuestro club con la cantidad de asistencia a las asambleas. Esto se puede lograr de la siguiente forma:\n"
   ]
  },
  {
   "cell_type": "code",
   "execution_count": 68,
   "metadata": {
    "collapsed": false
   },
   "outputs": [
    {
     "name": "stdout",
     "output_type": "stream",
     "text": [
      "{'Pepa': 5, 'Auri': 2, 'Lara': 3, 'Mau': 0, 'Riqui': 3, 'Clara': 6, 'Paqui': 5, 'Michi': 2, 'Pepe': 9}\n"
     ]
    }
   ],
   "source": [
    "miembros_club_asis = {\"Auri\": 2, \"Paqui\":5, \"Riqui\":3, \"Michi\":2, \"Mau\":0, \"Pepe\":9, \"Pepa\":5, \n",
    "                 \"Clara\":6, \"Lara\":3}\n",
    "print(miembros_club_asis)"
   ]
  },
  {
   "cell_type": "markdown",
   "metadata": {},
   "source": [
    "- No es necesario que los valores de la izquierda sean `str` y los de la derecha `int`. Tampoco todos las llaves y los valores tienen que ser de un solo tipo.\n",
    "- Los valores pueden ser de cualquier tipo. Sin embargo, las llaves no pueden ser datos modificables, i.e. no pueden ser listas ni diccionarios.\n",
    "- Te has fijado cómo se crean los diccionarios. Esta no es la única manera de crear diccionarios. Puedes revisar maneras alternativas [aquí](https://docs.python.org/3/library/stdtypes.html#mapping-types-dict).\n",
    "- Las key deben ser únicas. Nota qué pasa si creas un nuevo elemento en el diccionario `miembros_club_asis` y generas una nueva entrada `Pepa: 0`. "
   ]
  },
  {
   "cell_type": "code",
   "execution_count": 69,
   "metadata": {
    "collapsed": false
   },
   "outputs": [
    {
     "name": "stdout",
     "output_type": "stream",
     "text": [
      "{'Pepa': 0, 'Auri': 2, 'Lara': 3, 'Mau': 0, 'Riqui': 3, 'Clara': 6, 'Paqui': 5, 'Michi': 2, 'Pepe': 9}\n"
     ]
    }
   ],
   "source": [
    "#Crea un nuevo elemento en el diccionario: La entrada debe ser Pepa:0\n",
    "miembros_club_asis[\"Pepa\"] = 0\n",
    "print(miembros_club_asis)"
   ]
  },
  {
   "cell_type": "markdown",
   "metadata": {},
   "source": [
    "###Ejercicios con diccionarios...\n",
    "1. Para acceder a valores de una llave del diccionario solo tienes que usar lo siguiente: `nombre_dict[llave]`. ¿A cuántas sesiones ha asistido Clara?\n",
    "2. Has descubierto que Clara ha asistido a menos sesiones. Trata de modificar su entrada para que solo consigne 5 sesiones.\n",
    "3. Michi ha sido expulsado del club. borra su registro del diccionario. Pista: mira qué pasa cuando usas `del`.\n",
    "4. Imagina que no sabes si Riqui está en tu lista de miembros? ¿Cómo puedes averiguarlo sin imprimir el diccionario? Pista: usa `in`.\n",
    "5. El club acaba de admitir dos nuevos miembros `Roqui` y `Coco`. Por ser nuevos, no han asistido a ninguna reunión. Inclúyelos en el diccionario. Pista, mira qué sucede con el método `update( )`.\n",
    "6. Necesito una lista de todos los miembros del club. Una vez más, no imprimas el diccionario. Trata de ver lo que sucede cuando usas `keys`.\n",
    "7. Nuevamente, el club acaba de expulsar un nuevo miembro. Nada menos que Lara. Sácala del diccionario. Usa el método `pop()`. Tal vez quieras revisar un poco de documentación [aquí](https://docs.python.org/3/library/stdtypes.html#mapping-types-dict)."
   ]
  },
  {
   "cell_type": "code",
   "execution_count": 70,
   "metadata": {
    "collapsed": false
   },
   "outputs": [
    {
     "data": {
      "text/plain": [
       "6"
      ]
     },
     "execution_count": 70,
     "metadata": {},
     "output_type": "execute_result"
    }
   ],
   "source": [
    "#Respuesta pregunta 1\n",
    "miembros_club_asis[\"Clara\"]"
   ]
  },
  {
   "cell_type": "code",
   "execution_count": 71,
   "metadata": {
    "collapsed": false
   },
   "outputs": [
    {
     "name": "stdout",
     "output_type": "stream",
     "text": [
      "{'Pepa': 0, 'Auri': 2, 'Lara': 3, 'Mau': 0, 'Riqui': 3, 'Clara': 5, 'Paqui': 5, 'Michi': 2, 'Pepe': 9}\n"
     ]
    }
   ],
   "source": [
    "#Respuesta pregunta 2\n",
    "miembros_club_asis[\"Clara\"] = 5\n",
    "print(miembros_club_asis)"
   ]
  },
  {
   "cell_type": "code",
   "execution_count": 72,
   "metadata": {
    "collapsed": false
   },
   "outputs": [
    {
     "name": "stdout",
     "output_type": "stream",
     "text": [
      "{'Pepa': 0, 'Auri': 2, 'Lara': 3, 'Mau': 0, 'Riqui': 3, 'Clara': 5, 'Paqui': 5, 'Pepe': 9}\n"
     ]
    }
   ],
   "source": [
    "#Respuesta pregunta 3\n",
    "del miembros_club_asis[\"Michi\"]\n",
    "print(miembros_club_asis)"
   ]
  },
  {
   "cell_type": "code",
   "execution_count": 73,
   "metadata": {
    "collapsed": false
   },
   "outputs": [
    {
     "data": {
      "text/plain": [
       "True"
      ]
     },
     "execution_count": 73,
     "metadata": {},
     "output_type": "execute_result"
    }
   ],
   "source": [
    "\"Riqui\" in miembros_club_asis"
   ]
  },
  {
   "cell_type": "code",
   "execution_count": 74,
   "metadata": {
    "collapsed": false
   },
   "outputs": [
    {
     "name": "stdout",
     "output_type": "stream",
     "text": [
      "{'Pepa': 0, 'Auri': 2, 'Coco': 0, 'Lara': 3, 'Mau': 0, 'Roqui': 0, 'Riqui': 3, 'Clara': 5, 'Paqui': 5, 'Pepe': 9}\n"
     ]
    }
   ],
   "source": [
    "#Respuesta pregunta 4\n",
    "miembros_club_asis.update({\"Roqui\":0 , \"Coco\": 0})\n",
    "print(miembros_club_asis)"
   ]
  },
  {
   "cell_type": "code",
   "execution_count": 75,
   "metadata": {
    "collapsed": false
   },
   "outputs": [
    {
     "data": {
      "text/plain": [
       "dict_keys(['Pepa', 'Auri', 'Coco', 'Lara', 'Mau', 'Roqui', 'Riqui', 'Clara', 'Paqui', 'Pepe'])"
      ]
     },
     "execution_count": 75,
     "metadata": {},
     "output_type": "execute_result"
    }
   ],
   "source": [
    "#Respuesta pregunta 5\n",
    "miembros_club_asis.keys()"
   ]
  },
  {
   "cell_type": "code",
   "execution_count": 76,
   "metadata": {
    "collapsed": false
   },
   "outputs": [
    {
     "name": "stdout",
     "output_type": "stream",
     "text": [
      "{'Pepa': 0, 'Auri': 2, 'Coco': 0, 'Mau': 0, 'Roqui': 0, 'Riqui': 3, 'Clara': 5, 'Paqui': 5, 'Pepe': 9}\n"
     ]
    }
   ],
   "source": [
    "#Respuesta pregunta 6\n",
    "miembros_club_asis.pop(\"Lara\")\n",
    "print(miembros_club_asis)"
   ]
  },
  {
   "cell_type": "code",
   "execution_count": 77,
   "metadata": {
    "collapsed": false
   },
   "outputs": [],
   "source": [
    "#Ver qué pasa cuando se usa .pop sin argumentos y explicar por qué sucede esto"
   ]
  },
  {
   "cell_type": "markdown",
   "metadata": {},
   "source": [
    "### Reto: A mezclarlo todo...\n",
    "Como dije, los diccionarios pueden guardar diferentes tipos de información. La gente del club se ha dado cuenta de esto y ha decidido incluir junto al nombre de cada miembro, el número de asambleas asistidas y cuotas pagadas. "
   ]
  },
  {
   "cell_type": "code",
   "execution_count": 78,
   "metadata": {
    "collapsed": false
   },
   "outputs": [],
   "source": [
    "miembros_club_hist = {\"Auri\": [2, 4], \"Paqui\":[5,10], \"Riqui\":[3, 8], \"Michi\":[2, 8], \"Mau\":[0,6], \"Pepe\":[9, 7], \"Pepa\":[5,14], \n",
    "                 \"Clara\":[6,5], \"Lara\":[3,9]}"
   ]
  },
  {
   "cell_type": "markdown",
   "metadata": {},
   "source": [
    "1. ¿Cuántos miembros tiene el club? No imprimas y cuentes. Trata de ver qué sucede cuando usas `len( )`.\n",
    "2. Los miembros del club se han quejado porque Michi no ha pagado la última cuota. Es decir, solo ha pagado 7 y no 8. Modifica el diccionario para que refleje esto. \n",
    "3. Te has dado cuenta que para la sesión de hoy lo mejor es tener una lista de todos los miembros. Genera una lista a partir de los métodos aprendidos. "
   ]
  },
  {
   "cell_type": "code",
   "execution_count": 79,
   "metadata": {
    "collapsed": false
   },
   "outputs": [
    {
     "data": {
      "text/plain": [
       "9"
      ]
     },
     "execution_count": 79,
     "metadata": {},
     "output_type": "execute_result"
    }
   ],
   "source": [
    "#Respuesta pregunta 1\n",
    "len(miembros_club_hist)"
   ]
  },
  {
   "cell_type": "code",
   "execution_count": 80,
   "metadata": {
    "collapsed": false
   },
   "outputs": [
    {
     "name": "stdout",
     "output_type": "stream",
     "text": [
      "{'Pepa': [5, 14], 'Auri': [2, 4], 'Lara': [3, 9], 'Mau': [0, 6], 'Riqui': [3, 8], 'Clara': [6, 5], 'Paqui': [5, 10], 'Michi': [2, 7], 'Pepe': [9, 7]}\n"
     ]
    }
   ],
   "source": [
    "#Respuesta pregunta 2\n",
    "miembros_club_hist[\"Michi\"][1] = 7\n",
    "print(miembros_club_hist)"
   ]
  },
  {
   "cell_type": "code",
   "execution_count": 81,
   "metadata": {
    "collapsed": false
   },
   "outputs": [
    {
     "data": {
      "text/plain": [
       "['Pepa', 'Auri', 'Coco', 'Mau', 'Roqui', 'Riqui', 'Clara', 'Paqui', 'Pepe']"
      ]
     },
     "execution_count": 81,
     "metadata": {},
     "output_type": "execute_result"
    }
   ],
   "source": [
    "#Respuesta pregunta 3\n",
    "list(miembros_club_asis.keys())"
   ]
  },
  {
   "cell_type": "markdown",
   "metadata": {},
   "source": [
    "## Ejercicios\n",
    "\n",
    "Estos ejercicios los ayudarán a entrar un poco más a profundidad los temas estudiados hasta ahora. Traten de resolverlos por su cuenta. Usen todos los recursos disponibles (`?`, `??`, _google is your friend_) \n",
    "\n",
    "\n",
    "1. Obtén la parte entera de los siguientes números. Ejemplo: Si tienes 3.45665, deberías obtener 3.\n",
    "            - 345.34469293\n",
    "            - 8.759372\n",
    "            - 0.772345\n",
    "            - 9384.23\n",
    "            - 5.000374\n",
    "2. Ahora redondea los mismos números dados previamente.\n",
    "\n",
    "3. Puedes hacer que `Python` te diga si un número es divisible entre 14. Es fácil. Solo tienes que usar _Álgebra modular_. Existe una operación en `Python` que te dará el residuo de una división. Usa esta operación y averigua si los siguientes números son divisibles entre 14:\n",
    "            - 28\n",
    "            - 406\n",
    "            - 98\n",
    "            - 1024\n",
    "            - 4568\n",
    "4. El archivo LRM contiene el texto de la Ley de Reforma Magisterial. Descubre cuáles son las palabras más comunes del archivo. Asegúrate de poner las palabras en una lista. Para esto necesitarás usar un módulo adicional: el módulo `Counter` dentro de la librería `collections`. Revisa `Counter()` y `.most_common()`. Puedes obtener más información [aquí](https://docs.python.org/3.4/library/collections.html). Ojo: No te olvides de cómo abrir y cerrar archivos en `Python`.\n"
   ]
  },
  {
   "cell_type": "code",
   "execution_count": null,
   "metadata": {
    "collapsed": false
   },
   "outputs": [],
   "source": [
    "\n"
   ]
  },
  {
   "cell_type": "code",
   "execution_count": null,
   "metadata": {
    "collapsed": false
   },
   "outputs": [],
   "source": []
  },
  {
   "cell_type": "code",
   "execution_count": null,
   "metadata": {
    "collapsed": false
   },
   "outputs": [],
   "source": []
  },
  {
   "cell_type": "code",
   "execution_count": null,
   "metadata": {
    "collapsed": false
   },
   "outputs": [],
   "source": [
    "\n"
   ]
  },
  {
   "cell_type": "code",
   "execution_count": null,
   "metadata": {
    "collapsed": false
   },
   "outputs": [],
   "source": []
  },
  {
   "cell_type": "code",
   "execution_count": null,
   "metadata": {
    "collapsed": false
   },
   "outputs": [],
   "source": []
  },
  {
   "cell_type": "code",
   "execution_count": null,
   "metadata": {
    "collapsed": true
   },
   "outputs": [],
   "source": []
  }
 ],
 "metadata": {
  "kernelspec": {
   "display_name": "Python 3",
   "language": "python",
   "name": "python3"
  },
  "language_info": {
   "codemirror_mode": {
    "name": "ipython",
    "version": 3
   },
   "file_extension": ".py",
   "mimetype": "text/x-python",
   "name": "python",
   "nbconvert_exporter": "python",
   "pygments_lexer": "ipython3",
   "version": "3.4.2"
  }
 },
 "nbformat": 4,
 "nbformat_minor": 0
}
