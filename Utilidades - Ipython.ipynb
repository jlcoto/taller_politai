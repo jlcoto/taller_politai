{
 "cells": [
  {
   "cell_type": "markdown",
   "metadata": {},
   "source": [
    "# Utilidades de IPython\n",
    "En esta breve introducción a IPython veremos cuál es la ventaja de trabajar en IPython en vez de usar directamente la consola o escribir scripts.\n",
    "\n",
    "No pretendo revisar todas las utilidades que nos ofrece IPython. Solo pasaré revista de aquellas que les pueden ayudar en su aprendizaje.\n",
    "\n",
    "La principal característica de usar un __notebook IPython__ es que permite mezclar texto con código de Python. \n",
    "\n",
    "Fíjate qué pasa en la celda de abajo. Si quieres ejecutar la celda tienes dos opciones: \n",
    "1. alt + enter: ejecuta la celda y añade una nueva a continuación.\n",
    "2. shift + enter: ejecuta la celda actual sin añadir más celdas."
   ]
  },
  {
   "cell_type": "code",
   "execution_count": 1,
   "metadata": {
    "collapsed": false
   },
   "outputs": [
    {
     "name": "stdout",
     "output_type": "stream",
     "text": [
      "Bienvenidos al curso de Python\n"
     ]
    }
   ],
   "source": [
    "saludo = \"Bienvenidos al curso de Python\"\n",
    "print(saludo)"
   ]
  },
  {
   "cell_type": "markdown",
   "metadata": {},
   "source": [
    "## ¿Texto o código?\n",
    "Cómo elegir si uno quiere que la celda sirva para texto o para correr algún código. Las celdas por default se activan para escribir código. Uno puede cambiarlas a texto cuando al marcar la celda (ojo que se trata solo de marcar y __no activa__) y presionar la tecla `m`.\n",
    "\n",
    "Nota que las celdas de texto admiten markdown. El markdown es como un HTML simplificado que te permite generar:\n",
    "##Títulos \n",
    "- listas 1\n",
    "- lista 2\n",
    "\n",
    "\n",
    "diversos tipos de _énfasis 1_, __énfasis 2__ y muchas otras posibilidades. Si quieres saber más sobre la edición de textos con markdown, haz click [aquí](http://daringfireball.net/projects/markdown/).\n",
    "\n",
    "Nota que puedes "
   ]
  },
  {
   "cell_type": "code",
   "execution_count": null,
   "metadata": {
    "collapsed": true
   },
   "outputs": [],
   "source": []
  }
 ],
 "metadata": {
  "kernelspec": {
   "display_name": "Python 3",
   "language": "python",
   "name": "python3"
  },
  "language_info": {
   "codemirror_mode": {
    "name": "ipython",
    "version": 3
   },
   "file_extension": ".py",
   "mimetype": "text/x-python",
   "name": "python",
   "nbconvert_exporter": "python",
   "pygments_lexer": "ipython3",
   "version": "3.4.2"
  }
 },
 "nbformat": 4,
 "nbformat_minor": 0
}
