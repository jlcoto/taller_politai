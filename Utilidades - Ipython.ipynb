{
 "cells": [
  {
   "cell_type": "markdown",
   "metadata": {},
   "source": [
    "# Utilidades de IPython\n",
    "En esta breve introducción a IPython veremos cuál es la ventaja de trabajar en IPython en vez de usar directamente la consola o escribir scripts.\n",
    "\n",
    "No pretendo revisar todas las utilidades que nos ofrece IPython. Solo pasaré revista de aquellas que les pueden ayudar en su aprendizaje.\n",
    "\n",
    "La principal característica de usar un __notebook IPython__ es que permite mezclar texto con código de Python. \n",
    "\n",
    "Fíjate qué pasa en la celda de abajo. Si quieres ejecutar la celda tienes dos opciones: \n",
    "1. alt + enter: ejecuta la celda y añade una nueva a continuación.\n",
    "2. shift + enter: ejecuta la celda actual sin añadir más celdas."
   ]
  },
  {
   "cell_type": "code",
   "execution_count": 1,
   "metadata": {
    "collapsed": false
   },
   "outputs": [
    {
     "name": "stdout",
     "output_type": "stream",
     "text": [
      "Bienvenidos al curso de Python\n"
     ]
    }
   ],
   "source": [
    "saludo = \"Bienvenidos al curso de Python\"\n",
    "print(saludo)"
   ]
  },
  {
   "cell_type": "markdown",
   "metadata": {},
   "source": [
    "## ¿Texto o código?\n",
    "Cómo elegir si uno quiere que la celda sirva para texto o para correr algún código. Las celdas por default se activan para escribir código. Uno puede cambiarlas a texto cuando al marcar la celda (ojo que se trata solo de marcar y __no activa__) y presionar la tecla `m`.\n",
    "\n",
    "Nota que las celdas de texto admiten markdown. El markdown es como un HTML simplificado que te permite generar:\n",
    "##Títulos \n",
    "- listas 1\n",
    "- lista 2\n",
    "\n",
    "\n",
    "diversos tipos de _énfasis 1_, __énfasis 2__ y muchas otras posibilidades. Si quieres saber más sobre la edición de textos con markdown, haz click [aquí](http://daringfireball.net/projects/markdown/).\n",
    "\n",
    "_Nota que puedes entrar y modificar las celdas de texto y código haciendo doble click. Esto puede servir para que hagas notas en los textos y en el código._\n",
    "\n",
    "##Accediendo a utilidades\n",
    "Puedes acceder a muchas de las utilidades de IPython desde tu barra de herramientas. Sin embargo no hay nada mejor que usar comandos. Esto permitirá que trabajes de una manera más rápida. Puedes ver todos los comandos que usa IPython en _Help > Keyboard Shortcuts_. Otra manera de acceder a los atajos es presionando la tecla `H` cuando ninguna celda esté activada."
   ]
  },
  {
   "cell_type": "markdown",
   "metadata": {},
   "source": [
    "##Ayúdame IPython...\n",
    "Tal vez la característica más importante de IPython es la simplicidad con la que te puede ayudar. Estas son algunas de las funciones que creo que te serán de mucha utilidad:\n",
    "\n",
    "- Completando con `Tab`\n",
    "\n",
    "Muchas veces puede ser que quieras referirte a una variable previamente definida y no quieras reescribirla por completo. Puedes ahorrar tiempo digitando las letras iniciales de la variable y luego presionar `Tab`.\n",
    "\n",
    "El autocompletado de `Tab` también es muy útil para ver cuáles son los métodos propios de un objeto. \n"
   ]
  },
  {
   "cell_type": "code",
   "execution_count": 19,
   "metadata": {
    "collapsed": false
   },
   "outputs": [
    {
     "name": "stdout",
     "output_type": "stream",
     "text": [
      "\n"
     ]
    }
   ],
   "source": [
    "esta_es_una_variable_muy_larga = [1,2,3,4,5]\n",
    "print() #imprime la variable anterior"
   ]
  },
  {
   "cell_type": "code",
   "execution_count": 5,
   "metadata": {
    "collapsed": false
   },
   "outputs": [],
   "source": [
    "#poner \".\" luego de variable para ver cuáles son los métodos disponibles para listas"
   ]
  },
  {
   "cell_type": "markdown",
   "metadata": {},
   "source": [
    "- Viendo la documentación - ayuda de funciones\n",
    "\n",
    "Puede ser que en esta etapa inicial no sabes qué es lo que hace `nombre_lista.pop()`. Ipython te permite averiguarlo si usas un `?` luego del método o función que estás llamando. En algunos casos obtendrás mayor ayuda si utilizas `??`. En este último caso hasta puedes acceder al código fuente de una función o método."
   ]
  },
  {
   "cell_type": "code",
   "execution_count": 12,
   "metadata": {
    "collapsed": false
   },
   "outputs": [],
   "source": [
    "esta_es_una_variable_muy_larga.pop?"
   ]
  },
  {
   "cell_type": "markdown",
   "metadata": {},
   "source": [
    "##La Magia de IPython\n",
    "\n",
    "IPython tiene unos comandos mágicos que te permiten realizar múltiples actividades. Los comandos mágicos están precedidos por un `%` y reúnen múltiples funcionalidades. Si quieres saber todos los comandos mágicos que tienes a tu disposición, usa `%quickref`. Mira qué sucede cuando usas los comandos `%hist`, `%pwd` y `%who`."
   ]
  },
  {
   "cell_type": "code",
   "execution_count": 13,
   "metadata": {
    "collapsed": true
   },
   "outputs": [],
   "source": [
    "%quickref"
   ]
  },
  {
   "cell_type": "code",
   "execution_count": 21,
   "metadata": {
    "collapsed": false
   },
   "outputs": [],
   "source": []
  }
 ],
 "metadata": {
  "kernelspec": {
   "display_name": "Python 3",
   "language": "python",
   "name": "python3"
  },
  "language_info": {
   "codemirror_mode": {
    "name": "ipython",
    "version": 3
   },
   "file_extension": ".py",
   "mimetype": "text/x-python",
   "name": "python",
   "nbconvert_exporter": "python",
   "pygments_lexer": "ipython3",
   "version": "3.4.2"
  }
 },
 "nbformat": 4,
 "nbformat_minor": 0
}
