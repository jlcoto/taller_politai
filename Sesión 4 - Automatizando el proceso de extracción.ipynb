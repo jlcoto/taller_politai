{
 "cells": [
  {
   "cell_type": "markdown",
   "metadata": {},
   "source": [
    "#Automatizando el proceso de extracción de datos\n",
    "\n",
    "Hasta ahora hemos aprendido a obtener data de la web, extraerla e imprimirla. Sin embargo, por el momento nuestro acercamiento ha sido \"estático\": encontramos la página web que queremos, ubicamos aquello que queremos y lo extraemos. `Python` puede ir un poco más allá de esos simples pasos. Su verdadera fortaleza se demuestra cuando tenemos que obtener una serie de datos para los cuales se tienen que seguir los mismos procedimientos. \n",
    "\n",
    "Imaginen el siguiente ejemplo: tienen una lista de candidatos. Ustedes desean saber cuáles son los antecedentes de esos candidatos. Una manera sería ingresar a la hoja de vida de cada candidato y extraer aquello que se está buscando. Esto sería posible, sin embargo no eficiente. ¿Qué pasaría si quieren obtener las hojas de vida de TODOS los candidatos a nivel nacional? \n",
    "\n",
    "Para eso podemos servirnos de lo que sabemos hasta ahora para automatizar nuestro procedimiento de extracción de datos. En esta clase aprenderemos:\n",
    "\n",
    "* Trabajar haciendo web crawling.\n",
    "* Mecanizar la extracción de data.\n",
    "* Guardar la data obtenida en formato CSV.\n"
   ]
  },
  {
   "cell_type": "markdown",
   "metadata": {},
   "source": [
    "###Noten que...\n",
    "\n",
    "Los métodos que aprenderemos hoy tienen limitaciones. Hay páginas web más complejas que usan `javascript` para modificar su contenido. En estos casos los métodos de hoy no serán suficientes para automatizar el proceso de extracción. Existen otras librerías de `Python` que te pueden ayudar en esa tarea. Si te enfrentas a una página web compleja, te recomiendo que revises las posibilidades que te ofrece la librería `Selenium`. Revisa su documentación [aquí](https://selenium-python.readthedocs.org/)."
   ]
  },
  {
   "cell_type": "markdown",
   "metadata": {},
   "source": [
    "## Regresando a nuestro ejemplo de Wikipedia!\n",
    "\n",
    "Se acuerdan que como parte de la extracción de la tabla de partidos políticos obtuvimos una serie de links de sus respectivas páginas web de Wikipedia. Ahora veamos como sacar ciertos datos de manera automatizada de cada una de las páginas web de Wikipedia de los partidos políticos. \n",
    "\n",
    "Comencemos viendo cómo extraer estos datos de una de las páginas y evaluando si el mismo método funciona para las demás. Necesito tres datos de los partidos políticos:\n",
    "\n",
    "1. Presidente.\n",
    "2. Ideología.\n",
    "3. Número de congresistas.\n",
    "\n",
    "Aplica lo que has aprendido hasta ahora de BeatifulSoup y obtén estos tres datos por tu cuenta. Comencemos por la página web de Acción popular."
   ]
  },
  {
   "cell_type": "code",
   "execution_count": null,
   "metadata": {
    "collapsed": false
   },
   "outputs": [],
   "source": [
    "import requests\n",
    "from bs4 import BeautifulSoup\n",
    "\n",
    "pag_accion_pop = requests.get(\"https://es.wikipedia.org/wiki/Acci%C3%B3n_Popular\")\n",
    "ap_obj = BeautifulSoup(pag_accion_pop.text, \"html.parser\")\n",
    "presidente = None\n",
    "ideología = None\n",
    "congreso = None\n",
    "for item in ap_obj.find(\"table\", {\"class\": \"infobox\"}).findAll(\"th\", {\"scope\":\"row\"}):\n",
    "    if item.get_text() == \"Presidente\":\n",
    "        presidente = item.find_next_sibling().get_text().strip()\n",
    "    elif item.get_text() == \"Ideología\":\n",
    "        ideología = item.find_next_sibling().get_text().strip()\n",
    "    elif item.get_text() == \"Congreso\":\n",
    "        congreso = item.find_next_sibling().get_text().strip()\n",
    "print(presidente, ideología, congreso)\n",
    "    \n"
   ]
  },
  {
   "cell_type": "code",
   "execution_count": 42,
   "metadata": {
    "collapsed": false
   },
   "outputs": [
    {
     "data": {
      "text/plain": [
       "[<th scope=\"row\" style=\"text-align:left;\">Presidente</th>,\n",
       " <th scope=\"row\" style=\"text-align:left;\">Vicepresidente</th>,\n",
       " <th scope=\"row\" style=\"text-align:left;\">Secretario/a general</th>,\n",
       " <th scope=\"row\" style=\"text-align:left;\">Fundación</th>,\n",
       " <th scope=\"row\" style=\"text-align:left;\">Ideología</th>,\n",
       " <th scope=\"row\" style=\"text-align:left;\">Posición en el espectro</th>,\n",
       " <th scope=\"row\" style=\"text-align:left;\">Sede</th>,\n",
       " <th scope=\"row\" style=\"text-align:left;\"><a href=\"/wiki/Congreso_de_la_Rep%C3%BAblica_del_Per%C3%BA\" title=\"Congreso de la República del Perú\">Congreso</a></th>,\n",
       " <th scope=\"row\" style=\"text-align:left;\">Sitio web</th>]"
      ]
     },
     "execution_count": 42,
     "metadata": {},
     "output_type": "execute_result"
    }
   ],
   "source": [
    "ap_obj.find(\"table\", {\"class\": \"infobox\"}).findAll(\"th\", {\"scope\":\"row\"})"
   ]
  },
  {
   "cell_type": "markdown",
   "metadata": {},
   "source": [
    "## ¿Funcionará para otro partido?\n",
    "\n",
    "Probemos con el APRA. Modifiquemos nuestro código y veamos si cuando lo aplicamos para la página del APRA obtenemos la información que queremos."
   ]
  },
  {
   "cell_type": "code",
   "execution_count": null,
   "metadata": {
    "collapsed": false
   },
   "outputs": [],
   "source": [
    "pag_apra = requests.get(\"https://es.wikipedia.org/wiki/Alianza_Popular_Revolucionaria_Americana\")\n",
    "apra_obj = BeautifulSoup(pag_apra.text, \"html.parser\")\n",
    "for item in apra_obj.find(\"table\", {\"class\": \"infobox\"}).findAll(\"th\", {\"scope\":\"row\"}):\n",
    "    if item.get_text() in [\"Presidente\", \"Ideología\", \"Congreso\"]:\n",
    "        print(item.find_next_sibling().get_text().strip())"
   ]
  },
  {
   "cell_type": "markdown",
   "metadata": {},
   "source": [
    "Hasta ahora todo parece estar funcionando a la perfección. Pero qué pasa cuando vamos a la página web del partido \"Orden\".\n"
   ]
  },
  {
   "cell_type": "code",
   "execution_count": null,
   "metadata": {
    "collapsed": true
   },
   "outputs": [],
   "source": [
    "pag_orden = requests.get(\"https://es.wikipedia.org/wiki/Ántero_Flores-Aráoz\")\n",
    "orden_obj = BeautifulSoup(pag_orden.text, \"html.parser\")\n",
    "for item in orden_obj.find(\"table\", {\"class\": \"infobox\"}).findAll(\"th\", {\"scope\":\"row\"}):\n",
    "    if item.get_text() in [\"Presidente\", \"Ideología\", \"Congreso\"]:\n",
    "        print(item.find_next_sibling().get_text().strip())"
   ]
  },
  {
   "cell_type": "markdown",
   "metadata": {},
   "source": [
    "No obtenemos ningún resultado. Esto no se debe a que nuestra extracción esté equivocada. Viendo la página web podemos darnos cuenta de que tiene otro formato a las anteriores. En efecto, esta no es la página web del partido, sino la de su fundador. Nuestro futuro script con el que extraeremos los datos debe tener en cuenta esto para poder incluir `missings` donde corresponde. "
   ]
  },
  {
   "cell_type": "markdown",
   "metadata": {},
   "source": [
    "## ¡Comencemos a automatizar nuestro proceso de extracción de datos!\n",
    "\n",
    "Como se han dado cuenta, hemos podido reutilizar el código de extracción de datos y obtener los mismos resultados para diferentes páginas web. Esto nos indica que podemos ahorrar tiempo automatizando todo el proceso.\n",
    "\n",
    "Lo primero que tenemos que hacer ahora es tratar de obtener todos los links de los partidos políticos. Esto no debe resultar muy difícil, ya que lo hicimos la vez pasada. "
   ]
  },
  {
   "cell_type": "code",
   "execution_count": 43,
   "metadata": {
    "collapsed": false
   },
   "outputs": [
    {
     "name": "stdout",
     "output_type": "stream",
     "text": [
      "['/wiki/Acci%C3%B3n_Popular', '/wiki/Alianza_para_el_Progreso_(Per%C3%BA)', '/wiki/Fuerza_2011', '/wiki/%C3%81ntero_Flores-Ar%C3%A1oz', '/wiki/Partido_Aprista_Peruano', '/wiki/Partido_Democr%C3%A1tico_Somos_Per%C3%BA', '/wiki/Partido_Humanista_Peruano', '/wiki/Partido_Nacionalista_Peruano', '/wiki/Partido_Popular_Cristiano', '/wiki/Per%C3%BA_Patria_Segura', '/wiki/Per%C3%BA_Posible', '/wiki/Pedro_Pablo_Kuczynski', '/wiki/Restauraci%C3%B3n_Nacional_(Per%C3%BA)', '/wiki/Partido_Solidaridad_Nacional', '/wiki/Tierra_y_Libertad_(Per%C3%BA)', '/wiki/Uni%C3%B3n_por_el_Per%C3%BA']\n"
     ]
    }
   ],
   "source": [
    "# Obtén los links de las páginas web de Wikipedia de los partidos políticos\n",
    "pag_wiki = requests.get(\"https://es.wikipedia.org/wiki/Partidos_pol%C3%ADticos_del_Per%C3%BA\")\n",
    "wiki_pag = BeautifulSoup(pag_wiki.text, \"html.parser\")\n",
    "\n",
    "tabla_partidos = []\n",
    "for item in wiki_pag.findAll(\"tr\"):\n",
    "    try:\n",
    "        tabla_partidos.append(item.find_next_sibling().find(\"td\").a.attrs['href']) ## Notar que aquí existen algunos None!\n",
    "    except AttributeError:\n",
    "        continue\n",
    "\n",
    "print(tabla_partidos)"
   ]
  },
  {
   "cell_type": "code",
   "execution_count": 46,
   "metadata": {
    "collapsed": false
   },
   "outputs": [
    {
     "data": {
      "text/plain": [
       "[<tr>\n",
       " <th style=\"background:Lavender; color:Black\" width=\"250 px\">Partidos políticos</th>\n",
       " <th style=\"background:Lavender; color:Black\" width=\"250 px\">Fecha de inscripción</th>\n",
       " <th style=\"background:Lavender; color:Black\" width=\"250 px\">Año de fundación</th>\n",
       " <th style=\"background:Lavender; color:Black\" width=\"250 px\">Sitio Web</th>\n",
       " </tr>, <tr>\n",
       " <td><a href=\"/wiki/Acci%C3%B3n_Popular\" title=\"Acción Popular\">Acción Popular</a></td>\n",
       " <td>4 de agosto de 2004</td>\n",
       " <td>1956</td>\n",
       " <td><a class=\"external text\" href=\"http://www.accionpopular.com.pe\" rel=\"nofollow\">www.accionpopular.com.pe</a></td>\n",
       " </tr>, <tr>\n",
       " <td><a href=\"/wiki/Alianza_para_el_Progreso_(Per%C3%BA)\" title=\"Alianza para el Progreso (Perú)\">Alianza para el Progreso</a></td>\n",
       " <td>12 de febrero de 2008</td>\n",
       " <td>2001</td>\n",
       " <td><a class=\"external text\" href=\"http://www.app-peru.org.pe\" rel=\"nofollow\">www.app-peru.org.pe</a></td>\n",
       " </tr>, <tr>\n",
       " <td>Democracia Directa</td>\n",
       " <td>11 de diciembre de 2013</td>\n",
       " <td></td>\n",
       " <td><a class=\"external text\" href=\"http://fonavismodemocraciadirecta.blogspot.com\" rel=\"nofollow\">fonavismodemocraciadirecta.blogspot.com</a></td>\n",
       " </tr>, <tr>\n",
       " <td><a class=\"mw-redirect\" href=\"/wiki/Fuerza_2011\" title=\"Fuerza 2011\">Fuerza Popular</a></td>\n",
       " <td>9 de marzo de 2010</td>\n",
       " <td>2010</td>\n",
       " <td><a class=\"external text\" href=\"http://www.fuerzapopular.pe\" rel=\"nofollow\">www.fuerzapopular.pe</a></td>\n",
       " </tr>, <tr>\n",
       " <td><a href=\"/wiki/%C3%81ntero_Flores-Ar%C3%A1oz\" title=\"Ántero Flores-Aráoz\">Orden</a></td>\n",
       " <td></td>\n",
       " <td></td>\n",
       " <td></td>\n",
       " </tr>, <tr>\n",
       " <td><a class=\"mw-redirect\" href=\"/wiki/Partido_Aprista_Peruano\" title=\"Partido Aprista Peruano\">Partido Aprista Peruano</a></td>\n",
       " <td>31 de enero de 2005</td>\n",
       " <td>1924</td>\n",
       " <td><a class=\"external text\" href=\"http://apra.com.pe\" rel=\"nofollow\">apra.com.pe</a></td>\n",
       " </tr>, <tr>\n",
       " <td><a href=\"/wiki/Partido_Democr%C3%A1tico_Somos_Per%C3%BA\" title=\"Partido Democrático Somos Perú\">Partido Democrático Somos Perú</a></td>\n",
       " <td>22 de noviembre de 2004</td>\n",
       " <td>1997</td>\n",
       " <td><a class=\"external autonumber\" href=\"http://www.somosperu.org.pe\" rel=\"nofollow\">[1]</a></td>\n",
       " </tr>, <tr>\n",
       " <td><a href=\"/wiki/Partido_Humanista_Peruano\" title=\"Partido Humanista Peruano\">Partido Humanista Peruano</a></td>\n",
       " <td>23 de noviembre de 2009</td>\n",
       " <td>2001</td>\n",
       " <td><a class=\"external autonumber\" href=\"http://www.partidohumanista.org.pe\" rel=\"nofollow\">[2]</a></td>\n",
       " </tr>, <tr>\n",
       " <td><a href=\"/wiki/Partido_Nacionalista_Peruano\" title=\"Partido Nacionalista Peruano\">Partido Nacionalista Peruano</a></td>\n",
       " <td>4 de enero de 2006</td>\n",
       " <td>2005</td>\n",
       " <td><a class=\"external autonumber\" href=\"http://www.partidonacionalistaperuano.net\" rel=\"nofollow\">[3]</a></td>\n",
       " </tr>, <tr>\n",
       " <td><a href=\"/wiki/Partido_Popular_Cristiano\" title=\"Partido Popular Cristiano\">Partido Popular Cristiano</a></td>\n",
       " <td>29 de noviembre de 2004</td>\n",
       " <td>1966</td>\n",
       " <td><a class=\"external text\" href=\"http://ppc.pe\" rel=\"nofollow\">ppc.pe</a></td>\n",
       " </tr>, <tr>\n",
       " <td><a href=\"/wiki/Per%C3%BA_Patria_Segura\" title=\"Perú Patria Segura\">Perú Patria Segura</a></td>\n",
       " <td>18 de marzo de 2005</td>\n",
       " <td>1989</td>\n",
       " <td><a class=\"external autonumber\" href=\"http://www.perupatriasegura.org.pe\" rel=\"nofollow\">[4]</a></td>\n",
       " </tr>, <tr>\n",
       " <td><a href=\"/wiki/Per%C3%BA_Posible\" title=\"Perú Posible\">Perú Posible</a></td>\n",
       " <td>14 de marzo de 2005</td>\n",
       " <td>1994</td>\n",
       " <td><a class=\"external autonumber\" href=\"http://www.peruposible.org.pe\" rel=\"nofollow\">[5]</a></td>\n",
       " </tr>, <tr>\n",
       " <td><a href=\"/wiki/Pedro_Pablo_Kuczynski\" title=\"Pedro Pablo Kuczynski\">Peruanos Por el Kambio</a></td>\n",
       " <td></td>\n",
       " <td></td>\n",
       " <td><a class=\"external free\" href=\"http://ppk.pe/\" rel=\"nofollow\">http://ppk.pe/</a></td>\n",
       " </tr>, <tr>\n",
       " <td><a href=\"/wiki/Restauraci%C3%B3n_Nacional_(Per%C3%BA)\" title=\"Restauración Nacional (Perú)\">Restauración Nacional</a></td>\n",
       " <td>24 de noviembre de 2005</td>\n",
       " <td>2005</td>\n",
       " <td><a class=\"external autonumber\" href=\"http://www.restauracionnacional.org\" rel=\"nofollow\">[6]</a></td>\n",
       " </tr>, <tr>\n",
       " <td>Siempre Unidos</td>\n",
       " <td>21 de febrero de 2008</td>\n",
       " <td>2008</td>\n",
       " <td><a class=\"external free\" href=\"http://siempreunidos.org.pe/portal/\" rel=\"nofollow\">http://siempreunidos.org.pe/portal/</a></td>\n",
       " </tr>, <tr>\n",
       " <td><a href=\"/wiki/Partido_Solidaridad_Nacional\" title=\"Partido Solidaridad Nacional\">Solidaridad Nacional</a></td>\n",
       " <td>7 de diciembre de 2004</td>\n",
       " <td>1999</td>\n",
       " <td><a class=\"external free\" href=\"http://solidaridadnacional.pe/\" rel=\"nofollow\">http://solidaridadnacional.pe/</a></td>\n",
       " </tr>, <tr>\n",
       " <td><a href=\"/wiki/Tierra_y_Libertad_(Per%C3%BA)\" title=\"Tierra y Libertad (Perú)\"><i>Tierra y Libertad</i></a></td>\n",
       " <td>16 de marzo de 2012</td>\n",
       " <td>2012</td>\n",
       " <td></td>\n",
       " </tr>, <tr>\n",
       " <td>Todos por el Perú</td>\n",
       " <td>4 de enero de 2005</td>\n",
       " <td></td>\n",
       " <td><a class=\"external free\" href=\"http://todosporelperu.pe/\" rel=\"nofollow\">http://todosporelperu.pe/</a></td>\n",
       " </tr>, <tr>\n",
       " <td><a href=\"/wiki/Uni%C3%B3n_por_el_Per%C3%BA\" title=\"Unión por el Perú\">Unión por el Perú</a></td>\n",
       " <td>7 de marzo de 2005</td>\n",
       " <td>1994</td>\n",
       " <td></td>\n",
       " </tr>, <tr>\n",
       " <td>Vamos Perú</td>\n",
       " <td>27 de septiembre de 2013</td>\n",
       " <td>2013</td>\n",
       " <td></td>\n",
       " </tr>]"
      ]
     },
     "execution_count": 46,
     "metadata": {},
     "output_type": "execute_result"
    }
   ],
   "source": [
    "wiki_pag.findAll(\"tr\")"
   ]
  },
  {
   "cell_type": "markdown",
   "metadata": {},
   "source": [
    "## ¿Qué notas de los links que tienes hasta ahora?\n",
    "\n",
    "Copia y pega los links que te ha dado la página web. ¿Has visto que no puedes ingresar a la página web? Esto pasa porque no está completo o le falta el url base. Nota que todas las páginas web de Wikipedia comienzan con `https://es.wikipedia.org/` y luego se incluye la dirección web exacta de la información que requerimos. Es esta segunda parte lo que tenemos. Felizmente que podemos usar lo que hemos aprendido de `strings` para solucionar esto.\n",
    "\n",
    "### Ejercicio:\n",
    "\n",
    "Entra a la página web de Acción Popular usando el la dirección de la lista previamente obtenida concatenándolo a la dirección base. Pista: No te olvides cómo se concatenan los strings `+`. Imprime el primer título y verifica que diga \"Acción Popular\".\n"
   ]
  },
  {
   "cell_type": "code",
   "execution_count": 47,
   "metadata": {
    "collapsed": false
   },
   "outputs": [
    {
     "data": {
      "text/plain": [
       "'Acción Popular'"
      ]
     },
     "execution_count": 47,
     "metadata": {},
     "output_type": "execute_result"
    }
   ],
   "source": [
    "url_base = \"https://es.wikipedia.org\"\n",
    "\n",
    "pag_accion = requests.get(url_base + tabla_partidos[0])\n",
    "pag_accion_obj = BeautifulSoup(pag_accion.text, \"html.parser\")\n",
    "pag_accion_obj.h1.get_text()"
   ]
  },
  {
   "cell_type": "markdown",
   "metadata": {},
   "source": [
    "Hasta ahora todo va funcionando a la perección. Hemos obtenido nuestros links, sabemos cómo llegar a las páginas web mediante los links que ya tenemos en nuestra lista y, además, tenemos el código que nos permite extraer la información que necesitamos de cada página web. Es hora de unirlo todo para ver cómo funciona cuando lo juntamos."
   ]
  },
  {
   "cell_type": "code",
   "execution_count": 48,
   "metadata": {
    "collapsed": false
   },
   "outputs": [
    {
     "name": "stdout",
     "output_type": "stream",
     "text": [
      "Mesías Guevara Amasifuén\n",
      "Liberalismo, Humanismo, Progresismo\n",
      "5 / 130\n",
      "César Acuña Peralta\n",
      "Liberalismo\n",
      "2 / 130\n",
      "Keiko Fujimori\n",
      "Fujimorismo[1]\n",
      "Conservadurismo liberal\n",
      "36 / 130\n",
      "Alan García Pérez\n",
      "Socialdemocracia\n",
      "Socialismo democrático\n",
      "Progresismo\n",
      "4 / 130\n",
      "Patricia Li Sotelo\n",
      "Socialcristianismo\n",
      "Yehude Simon Munaro\n",
      "Liberalismo económico, Populismo\n",
      "Nadine Heredia\n",
      "Nacionalismo\n",
      "Nacionalismo de izquierda\n",
      "Socialismo\n",
      "Latinoamericanismo[1]\n",
      "35 / 130\n",
      "Raúl Castro Stagnaro\n",
      "Democracia cristiana\n",
      "Socialcristianismo\n",
      "Humanismo\n",
      "5 / 130\n",
      "Conservadurismo social\n",
      "Alejandro Toledo\n",
      "Liberalismo\n",
      "Democracia liberal\n",
      "Ecologismo\n",
      "11 / 130\n",
      "Alejandro Toledo\n",
      "Alejandro Toledo\n",
      "Alejandro Toledo\n",
      "Fernando Belaúnde Terry\n",
      "Humberto Lay Sun\n",
      "Luis Castañeda Lossio\n",
      "Conservadurismo\n",
      "Liberalismo\n",
      "Liberalismo conservador\n",
      "7 / 130\n",
      "Marco Arana Zegarra\n",
      "Ecosocialismo,\n",
      "Ecologismo radical,\n",
      "Marxismo libertario,\n",
      "Teología de la liberación\n",
      "José Vega Antonio\n",
      "Socioliberalismo\n",
      "Mesías Guevara Amasifuén\n",
      "Liberalismo, Humanismo, Progresismo\n",
      "5 / 130\n",
      "César Acuña Peralta\n",
      "Liberalismo\n",
      "2 / 130\n"
     ]
    }
   ],
   "source": [
    "for partido in tabla_partidos:\n",
    "    pag_req = requests.get(url_base + partido)\n",
    "    pag_req_obj = BeautifulSoup(pag_req.text, \"html.parser\")\n",
    "    for item in pag_req_obj.find(\"table\", {\"class\": \"infobox\"}).findAll(\"th\", {\"scope\":\"row\"}):\n",
    "        if item.get_text() in [\"Presidente\", \"Ideología\", \"Congreso\"]:\n",
    "            print(item.find_next_sibling().get_text().strip())\n",
    "    "
   ]
  },
  {
   "cell_type": "markdown",
   "metadata": {},
   "source": [
    "Bien, hemos obtenido lo que queríamos. Sin embargo, nota que la información que tenemos está muy desordenada. No sabemos a qué corresponde qué dato. ¡Tratemos de ordernarlo un poco!"
   ]
  },
  {
   "cell_type": "code",
   "execution_count": 49,
   "metadata": {
    "collapsed": true
   },
   "outputs": [],
   "source": [
    "informacion_partidos = []\n",
    "for partido in tabla_partidos:\n",
    "    info = []\n",
    "    pag_req = requests.get(url_base + partido)\n",
    "    pag_req_obj = BeautifulSoup(pag_req.text, \"html.parser\")\n",
    "    info.append(pag_req_obj.h1.get_text())\n",
    "    for item in pag_req_obj.find(\"table\", {\"class\": \"infobox\"}).findAll(\"th\", {\"scope\":\"row\"}):\n",
    "        if item.get_text() in [\"Presidente\", \"Ideología\", \"Congreso\"]:\n",
    "            info.append(item.find_next_sibling().get_text().strip())\n",
    "    informacion_partidos.append(info)"
   ]
  },
  {
   "cell_type": "code",
   "execution_count": 50,
   "metadata": {
    "collapsed": false
   },
   "outputs": [
    {
     "name": "stdout",
     "output_type": "stream",
     "text": [
      "[['Acción Popular', 'Mesías Guevara Amasifuén', 'Liberalismo, Humanismo, Progresismo', '5\\xa0/\\xa0130'], ['Alianza para el Progreso (Perú)', 'César Acuña Peralta', 'Liberalismo', '2\\xa0/\\xa0130'], ['Fuerza Popular', 'Keiko Fujimori', 'Fujimorismo[1]\\nConservadurismo liberal', '36\\xa0/\\xa0130'], ['Ántero Flores-Aráoz'], ['Alianza Popular Revolucionaria Americana', 'Alan García Pérez', 'Socialdemocracia\\nSocialismo democrático\\nProgresismo', '4\\xa0/\\xa0130'], ['Partido Democrático Somos Perú', 'Patricia Li Sotelo', 'Socialcristianismo'], ['Partido Humanista Peruano', 'Yehude Simon Munaro', 'Liberalismo económico, Populismo'], ['Partido Nacionalista Peruano', 'Nadine Heredia', 'Nacionalismo\\nNacionalismo de izquierda\\nSocialismo\\nLatinoamericanismo[1]', '35\\xa0/\\xa0130'], ['Partido Popular Cristiano', 'Raúl Castro Stagnaro', 'Democracia cristiana\\nSocialcristianismo\\nHumanismo', '5\\xa0/\\xa0130'], ['Perú Patria Segura', 'Conservadurismo social'], ['Perú Posible', 'Alejandro Toledo', 'Liberalismo\\nDemocracia liberal\\nEcologismo', '11\\xa0/\\xa0130'], ['Pedro Pablo Kuczynski', 'Alejandro Toledo', 'Alejandro Toledo', 'Alejandro Toledo', 'Fernando Belaúnde Terry'], ['Restauración Nacional (Perú)', 'Humberto Lay Sun'], ['Partido Solidaridad Nacional', 'Luis Castañeda Lossio', 'Conservadurismo\\nLiberalismo\\nLiberalismo conservador', '7\\xa0/\\xa0130'], ['Tierra y Libertad (Perú)', 'Marco Arana Zegarra', 'Ecosocialismo,\\nEcologismo radical,\\nMarxismo libertario,\\nTeología de la liberación'], ['Unión por el Perú', 'José Vega Antonio', 'Socioliberalismo'], ['Acción Popular', 'Mesías Guevara Amasifuén', 'Liberalismo, Humanismo, Progresismo', '5\\xa0/\\xa0130'], ['Alianza para el Progreso (Perú)', 'César Acuña Peralta', 'Liberalismo', '2\\xa0/\\xa0130']]\n"
     ]
    }
   ],
   "source": [
    "print(informacion_partidos)"
   ]
  },
  {
   "cell_type": "markdown",
   "metadata": {},
   "source": [
    "## Pueden ver cuáles son los problemas de las páginas web solicitadas...\n",
    "\n",
    "Aún la información no está de la manera que queremos. Noten que en algunos casos, i.e. Antero Flórez Aráoz y PPK, las direcciones de Wikipedia no son la de los partidos, sino la de los candidatos. En este caso, nuestro código debe identificar esto y poner como `missing` esta información. Por otro lado, hay ciertos partidos que no registran información, como número de Congresistas. "
   ]
  },
  {
   "cell_type": "markdown",
   "metadata": {},
   "source": [
    "## Primer problema: Queremos páginas de partidos y no páginas personales.\n",
    "\n",
    "Una manera sencilla de verificar si estamos ingresando a una página web del partido o una del candidato, es ver si el título de la página web al que accedemos es el mismo título del partido que tenemos en la lista. Fíjense en el caso del partido \"Peruanos por el Kambio\": al momento de hacer click, entramos en la página de PPK. Esto no nos sirve. ¿Cómo podemos tener en cuenta esto para poner `missings` en nuestra base de datos? Intentemos que nuestro código chequee la coincidencia entre el título del link y el de la página web a la que estamos ingresando. Por el momento resolvamos este tema y luego veremos cómo implementarlo en nuestro código final."
   ]
  },
  {
   "cell_type": "code",
   "execution_count": 51,
   "metadata": {
    "collapsed": false
   },
   "outputs": [
    {
     "name": "stdout",
     "output_type": "stream",
     "text": [
      "[('Acción Popular', '/wiki/Acci%C3%B3n_Popular'), ('Alianza para el Progreso', '/wiki/Alianza_para_el_Progreso_(Per%C3%BA)'), ('Fuerza Popular', '/wiki/Fuerza_2011'), ('Orden', '/wiki/%C3%81ntero_Flores-Ar%C3%A1oz'), ('Partido Aprista Peruano', '/wiki/Partido_Aprista_Peruano'), ('Partido Democrático Somos Perú', '/wiki/Partido_Democr%C3%A1tico_Somos_Per%C3%BA'), ('Partido Humanista Peruano', '/wiki/Partido_Humanista_Peruano'), ('Partido Nacionalista Peruano', '/wiki/Partido_Nacionalista_Peruano'), ('Partido Popular Cristiano', '/wiki/Partido_Popular_Cristiano'), ('Perú Patria Segura', '/wiki/Per%C3%BA_Patria_Segura'), ('Perú Posible', '/wiki/Per%C3%BA_Posible'), ('Peruanos Por el Kambio', '/wiki/Pedro_Pablo_Kuczynski'), ('Restauración Nacional', '/wiki/Restauraci%C3%B3n_Nacional_(Per%C3%BA)'), ('Solidaridad Nacional', '/wiki/Partido_Solidaridad_Nacional'), ('Tierra y Libertad', '/wiki/Tierra_y_Libertad_(Per%C3%BA)'), ('Unión por el Perú', '/wiki/Uni%C3%B3n_por_el_Per%C3%BA')]\n"
     ]
    }
   ],
   "source": [
    "nueva_tabla_partidos = []\n",
    "for item in wiki_pag.findAll(\"tr\"):\n",
    "    try:\n",
    "        nueva_tabla_partidos.append((item.find_next_sibling().find(\"td\").a.get_text() ,item.find_next_sibling().find(\"td\").a.attrs['href'])) ## Notar que aquí existen algunos None!\n",
    "    except AttributeError:\n",
    "        continue\n",
    "\n",
    "print(nueva_tabla_partidos)"
   ]
  },
  {
   "cell_type": "code",
   "execution_count": 52,
   "metadata": {
    "collapsed": false,
    "scrolled": true
   },
   "outputs": [
    {
     "name": "stdout",
     "output_type": "stream",
     "text": [
      "Acción Popular /wiki/Acci%C3%B3n_Popular\n",
      "Alianza para el Progreso /wiki/Alianza_para_el_Progreso_(Per%C3%BA)\n",
      "Fuerza Popular /wiki/Fuerza_2011\n",
      "Orden /wiki/%C3%81ntero_Flores-Ar%C3%A1oz\n",
      "Partido Aprista Peruano /wiki/Partido_Aprista_Peruano\n",
      "Partido Democrático Somos Perú /wiki/Partido_Democr%C3%A1tico_Somos_Per%C3%BA\n",
      "Partido Humanista Peruano /wiki/Partido_Humanista_Peruano\n",
      "Partido Nacionalista Peruano /wiki/Partido_Nacionalista_Peruano\n",
      "Partido Popular Cristiano /wiki/Partido_Popular_Cristiano\n",
      "Perú Patria Segura /wiki/Per%C3%BA_Patria_Segura\n",
      "Perú Posible /wiki/Per%C3%BA_Posible\n",
      "Peruanos Por el Kambio /wiki/Pedro_Pablo_Kuczynski\n",
      "Restauración Nacional /wiki/Restauraci%C3%B3n_Nacional_(Per%C3%BA)\n",
      "Solidaridad Nacional /wiki/Partido_Solidaridad_Nacional\n",
      "Tierra y Libertad /wiki/Tierra_y_Libertad_(Per%C3%BA)\n",
      "Unión por el Perú /wiki/Uni%C3%B3n_por_el_Per%C3%BA\n"
     ]
    }
   ],
   "source": [
    "for item in nueva_tabla_partidos:\n",
    "    print(item[0], item[1])"
   ]
  },
  {
   "cell_type": "code",
   "execution_count": 53,
   "metadata": {
    "collapsed": false
   },
   "outputs": [
    {
     "name": "stdout",
     "output_type": "stream",
     "text": [
      "Acción Popular acción popular Sí\n",
      "Alianza para el Progreso alianza para el progreso Sí\n",
      "Fuerza Popular fuerza popular Sí\n",
      "Orden ántero flores-aráoz esparza No\n",
      "Partido Aprista Peruano partido aprista peruano Sí\n",
      "Partido Democrático Somos Perú partido democrático somos perú Sí\n",
      "Partido Humanista Peruano partido humanista peruano Sí\n",
      "Partido Nacionalista Peruano partido nacionalista peruano Sí\n",
      "Partido Popular Cristiano partido popular cristiano Sí\n",
      "Perú Patria Segura perú patria segura Sí\n",
      "Perú Posible perú posible Sí\n",
      "Peruanos Por el Kambio pedro pablo kuczynski No\n",
      "Restauración Nacional restauración nacional Sí\n",
      "Solidaridad Nacional Si\n",
      "Tierra y Libertad tierra y libertad Sí\n",
      "Unión por el Perú unión por el perú Sí\n"
     ]
    }
   ],
   "source": [
    "for partido in nueva_tabla_partidos:\n",
    "    pag_req = requests.get(url_base + partido[1])\n",
    "    pag_req_obj = BeautifulSoup(pag_req.text, \"html.parser\")\n",
    "    titulo_pag = pag_req_obj.find(\"th\", {\"class\": \"cabecera\"}).get_text()\n",
    "    if titulo_pag.lower() == partido[0].lower():\n",
    "        print(partido[0], titulo_pag.lower(), \"Sí\")\n",
    "    elif partido[0].lower() == \"solidaridad nacional\":\n",
    "        print(partido[0], \"Si\")\n",
    "    else:\n",
    "        print(partido[0], titulo_pag.lower(), \"No\")"
   ]
  },
  {
   "cell_type": "code",
   "execution_count": 54,
   "metadata": {
    "collapsed": false
   },
   "outputs": [
    {
     "name": "stdout",
     "output_type": "stream",
     "text": [
      "[['Acción Popular', 'Mesías Guevara Amasifuén', 'Liberalismo, Humanismo, Progresismo', '5\\xa0/\\xa0130'], ['Alianza para el Progreso', 'César Acuña Peralta', 'Liberalismo', '2\\xa0/\\xa0130'], ['Fuerza Popular', 'Keiko Fujimori', 'Fujimorismo[1]\\nConservadurismo liberal', '36\\xa0/\\xa0130'], ['Orden', None, None, None], ['Partido Aprista Peruano', 'Alan García Pérez', 'Socialdemocracia\\nSocialismo democrático\\nProgresismo', '4\\xa0/\\xa0130'], ['Partido Democrático Somos Perú', 'Patricia Li Sotelo', 'Socialcristianismo', None], ['Partido Humanista Peruano', 'Yehude Simon Munaro', 'Liberalismo económico, Populismo', None], ['Partido Nacionalista Peruano', 'Nadine Heredia', 'Nacionalismo\\nNacionalismo de izquierda\\nSocialismo\\nLatinoamericanismo[1]', '35\\xa0/\\xa0130'], ['Partido Popular Cristiano', 'Raúl Castro Stagnaro', 'Democracia cristiana\\nSocialcristianismo\\nHumanismo', '5\\xa0/\\xa0130'], ['Perú Patria Segura', None, 'Conservadurismo social', None], ['Perú Posible', 'Alejandro Toledo', 'Liberalismo\\nDemocracia liberal\\nEcologismo', '11\\xa0/\\xa0130'], ['Peruanos Por el Kambio', 'Fernando Belaúnde Terry', None, None], ['Restauración Nacional', 'Humberto Lay Sun', None, None], ['Solidaridad Nacional', 'Luis Castañeda Lossio', 'Conservadurismo\\nLiberalismo\\nLiberalismo conservador', '7\\xa0/\\xa0130'], ['Tierra y Libertad', 'Marco Arana Zegarra', 'Ecosocialismo,\\nEcologismo radical,\\nMarxismo libertario,\\nTeología de la liberación', None], ['Unión por el Perú', 'José Vega Antonio', 'Socioliberalismo', None]]\n"
     ]
    }
   ],
   "source": [
    "informacion_partidos = []\n",
    "for partido in nueva_tabla_partidos:\n",
    "    presidente = None\n",
    "    ideología = None\n",
    "    congreso = None\n",
    "    pag_req = requests.get(url_base + partido[1])\n",
    "    pag_req_obj = BeautifulSoup(pag_req.text, \"html.parser\")\n",
    "    info.append(pag_req_obj.h1.get_text())\n",
    "    for item in pag_req_obj.find(\"table\", {\"class\": \"infobox\"}).findAll(\"th\", {\"scope\":\"row\"}):\n",
    "        if item.get_text() == \"Presidente\":\n",
    "            presidente = item.find_next_sibling().get_text().strip()\n",
    "        elif item.get_text() == \"Ideología\":\n",
    "            ideología = item.find_next_sibling().get_text().strip()\n",
    "        elif item.get_text() == \"Congreso\":\n",
    "            congreso = item.find_next_sibling().get_text().strip()\n",
    "    informacion_partidos.append([partido[0], presidente, ideología, congreso])\n",
    "print(informacion_partidos)"
   ]
  },
  {
   "cell_type": "markdown",
   "metadata": {},
   "source": [
    "## Uniendo todo + Limpiando data + guardando información\n",
    "\n",
    "1. Generar una lista de solamente aqullos partidos que exploraremos. Eliminar aquellos que van a páginas personales de autores (PPK, Antero Flórez).\n",
    "2. Extraer la información de las páginas de Wikipedia.\n",
    "3. Limpiar la información.\n",
    "4. Guardarla en un archivo CSV.\n"
   ]
  },
  {
   "cell_type": "code",
   "execution_count": 55,
   "metadata": {
    "collapsed": false
   },
   "outputs": [
    {
     "name": "stdout",
     "output_type": "stream",
     "text": [
      "[('Acción Popular', '/wiki/Acci%C3%B3n_Popular'), ('Alianza para el Progreso', '/wiki/Alianza_para_el_Progreso_(Per%C3%BA)'), ('Fuerza Popular', '/wiki/Fuerza_2011'), ('Partido Aprista Peruano', '/wiki/Partido_Aprista_Peruano'), ('Partido Democrático Somos Perú', '/wiki/Partido_Democr%C3%A1tico_Somos_Per%C3%BA'), ('Partido Humanista Peruano', '/wiki/Partido_Humanista_Peruano'), ('Partido Nacionalista Peruano', '/wiki/Partido_Nacionalista_Peruano'), ('Partido Popular Cristiano', '/wiki/Partido_Popular_Cristiano'), ('Perú Patria Segura', '/wiki/Per%C3%BA_Patria_Segura'), ('Perú Posible', '/wiki/Per%C3%BA_Posible'), ('Restauración Nacional', '/wiki/Restauraci%C3%B3n_Nacional_(Per%C3%BA)'), ('Solidaridad Nacional', '/wiki/Partido_Solidaridad_Nacional'), ('Tierra y Libertad', '/wiki/Tierra_y_Libertad_(Per%C3%BA)'), ('Unión por el Perú', '/wiki/Uni%C3%B3n_por_el_Per%C3%BA')]\n"
     ]
    }
   ],
   "source": [
    "#1. Generando la lista que contenga los partidos depurados\n",
    "part_depurados = []\n",
    "for partido in nueva_tabla_partidos:\n",
    "    pag_req = requests.get(url_base + partido[1])\n",
    "    pag_req_obj = BeautifulSoup(pag_req.text, \"html.parser\")\n",
    "    titulo_pag = pag_req_obj.find(\"th\", {\"class\": \"cabecera\"}).get_text()\n",
    "    if titulo_pag.lower() == partido[0].lower():\n",
    "        part_depurados.append(partido)\n",
    "    elif partido[0].lower() == \"solidaridad nacional\":\n",
    "        part_depurados.append(partido)\n",
    "    else:\n",
    "        continue\n",
    "\n",
    "print(part_depurados)"
   ]
  },
  {
   "cell_type": "code",
   "execution_count": 56,
   "metadata": {
    "collapsed": false
   },
   "outputs": [],
   "source": [
    "#2. Extrayendo información de páginas web de Wikipedia\n",
    "informacion_partidos_dep = []\n",
    "for partido in part_depurados:\n",
    "    presidente = None\n",
    "    ideología = None\n",
    "    congreso = None\n",
    "    pag_req = requests.get(url_base + partido[1])\n",
    "    pag_req_obj = BeautifulSoup(pag_req.text, \"html.parser\")\n",
    "    info.append(pag_req_obj.h1.get_text())\n",
    "    for item in pag_req_obj.find(\"table\", {\"class\": \"infobox\"}).findAll(\"th\", {\"scope\":\"row\"}):\n",
    "        if item.get_text() == \"Presidente\":\n",
    "            presidente = item.find_next_sibling().get_text().strip()\n",
    "        elif item.get_text() == \"Ideología\":\n",
    "            ideología = item.find_next_sibling().get_text().strip()\n",
    "        elif item.get_text() == \"Congreso\":\n",
    "            congreso = item.find_next_sibling().get_text().strip()\n",
    "    informacion_partidos_dep.append([partido[0], presidente, ideología, congreso])\n"
   ]
  },
  {
   "cell_type": "markdown",
   "metadata": {},
   "source": [
    "Ahora es tiempo de limpiar un poco la información antes de incluirla en nuestro `CSV`. En particular haremos dos cosas. Primero quitaremos los espacios en la parte de ideología y los reemplazaremos por `,`. Lo segundo es modificar los asientos al congreso para que no muestren esos símbolos ni el total de escaños."
   ]
  },
  {
   "cell_type": "code",
   "execution_count": 58,
   "metadata": {
    "collapsed": false
   },
   "outputs": [
    {
     "name": "stdout",
     "output_type": "stream",
     "text": [
      "[['Acción Popular', 'Mesías Guevara Amasifuén', 'Liberalismo, Humanismo, Progresismo', '5\\xa0/\\xa0130'], ['Alianza para el Progreso', 'César Acuña Peralta', 'Liberalismo', '2\\xa0/\\xa0130'], ['Fuerza Popular', 'Keiko Fujimori', 'Fujimorismo[1]\\nConservadurismo liberal', '36\\xa0/\\xa0130'], ['Partido Aprista Peruano', 'Alan García Pérez', 'Socialdemocracia\\nSocialismo democrático\\nProgresismo', '4\\xa0/\\xa0130'], ['Partido Democrático Somos Perú', 'Patricia Li Sotelo', 'Socialcristianismo', None], ['Partido Humanista Peruano', 'Yehude Simon Munaro', 'Liberalismo económico, Populismo', None], ['Partido Nacionalista Peruano', 'Nadine Heredia', 'Nacionalismo\\nNacionalismo de izquierda\\nSocialismo\\nLatinoamericanismo[1]', '35\\xa0/\\xa0130'], ['Partido Popular Cristiano', 'Raúl Castro Stagnaro', 'Democracia cristiana\\nSocialcristianismo\\nHumanismo', '5\\xa0/\\xa0130'], ['Perú Patria Segura', None, 'Conservadurismo social', None], ['Perú Posible', 'Alejandro Toledo', 'Liberalismo\\nDemocracia liberal\\nEcologismo', '11\\xa0/\\xa0130'], ['Restauración Nacional', 'Humberto Lay Sun', None, None], ['Solidaridad Nacional', 'Luis Castañeda Lossio', 'Conservadurismo\\nLiberalismo\\nLiberalismo conservador', '7\\xa0/\\xa0130'], ['Tierra y Libertad', 'Marco Arana Zegarra', 'Ecosocialismo,\\nEcologismo radical,\\nMarxismo libertario,\\nTeología de la liberación', None], ['Unión por el Perú', 'José Vega Antonio', 'Socioliberalismo', None]]\n"
     ]
    }
   ],
   "source": [
    "print(informacion_partidos_dep)"
   ]
  },
  {
   "cell_type": "code",
   "execution_count": 59,
   "metadata": {
    "collapsed": false
   },
   "outputs": [
    {
     "name": "stdout",
     "output_type": "stream",
     "text": [
      "Liberalismo, Humanismo, Progresismo 5\n",
      "Liberalismo 2\n",
      "Fujimorismo[1], Conservadurismo liberal 36\n",
      "Socialdemocracia, Socialismo democrático, Progresismo 4\n",
      "Socialcristianismo None\n",
      "Liberalismo económico, Populismo None\n",
      "Nacionalismo, Nacionalismo de izquierda, Socialismo, Latinoamericanismo[1] 35\n",
      "Democracia cristiana, Socialcristianismo, Humanismo 5\n",
      "Conservadurismo social None\n",
      "Liberalismo, Democracia liberal, Ecologismo 11\n",
      "None None\n",
      "Conservadurismo, Liberalismo, Liberalismo conservador 7\n",
      "Ecosocialismo,, Ecologismo radical,, Marxismo libertario,, Teología de la liberación None\n",
      "Socioliberalismo None\n"
     ]
    }
   ],
   "source": [
    "for item in info_limpia:\n",
    "    print(item[2], item[-1])\n",
    "    "
   ]
  },
  {
   "cell_type": "code",
   "execution_count": 61,
   "metadata": {
    "collapsed": false
   },
   "outputs": [],
   "source": [
    "info_limpia = informacion_partidos_dep.copy()\n",
    "for item in info_limpia:\n",
    "    try:\n",
    "        item[2] = item[2].replace(\"\\n\", \", \")\n",
    "        item[-1] = item[-1].replace(\"\\xa0/\\xa0130\", \"\")\n",
    "    except AttributeError:\n",
    "        continue\n",
    "        "
   ]
  },
  {
   "cell_type": "code",
   "execution_count": 62,
   "metadata": {
    "collapsed": false
   },
   "outputs": [
    {
     "name": "stdout",
     "output_type": "stream",
     "text": [
      "[['Acción Popular', 'Mesías Guevara Amasifuén', 'Liberalismo, Humanismo, Progresismo', '5'], ['Alianza para el Progreso', 'César Acuña Peralta', 'Liberalismo', '2'], ['Fuerza Popular', 'Keiko Fujimori', 'Fujimorismo[1], Conservadurismo liberal', '36'], ['Partido Aprista Peruano', 'Alan García Pérez', 'Socialdemocracia, Socialismo democrático, Progresismo', '4'], ['Partido Democrático Somos Perú', 'Patricia Li Sotelo', 'Socialcristianismo', None], ['Partido Humanista Peruano', 'Yehude Simon Munaro', 'Liberalismo económico, Populismo', None], ['Partido Nacionalista Peruano', 'Nadine Heredia', 'Nacionalismo, Nacionalismo de izquierda, Socialismo, Latinoamericanismo[1]', '35'], ['Partido Popular Cristiano', 'Raúl Castro Stagnaro', 'Democracia cristiana, Socialcristianismo, Humanismo', '5'], ['Perú Patria Segura', None, 'Conservadurismo social', None], ['Perú Posible', 'Alejandro Toledo', 'Liberalismo, Democracia liberal, Ecologismo', '11'], ['Restauración Nacional', 'Humberto Lay Sun', None, None], ['Solidaridad Nacional', 'Luis Castañeda Lossio', 'Conservadurismo, Liberalismo, Liberalismo conservador', '7'], ['Tierra y Libertad', 'Marco Arana Zegarra', 'Ecosocialismo,, Ecologismo radical,, Marxismo libertario,, Teología de la liberación', None], ['Unión por el Perú', 'José Vega Antonio', 'Socioliberalismo', None]]\n"
     ]
    }
   ],
   "source": [
    "print(info_limpia)"
   ]
  },
  {
   "cell_type": "markdown",
   "metadata": {},
   "source": [
    "## Guardando la información\n",
    "\n",
    "Ya tenemos la data limpia. Ahora lo que haremos es guardarla. Para esto tenemos que usar el módulo `CSV` de `Python`. Esto va a permitir que podamos generar y modificar de manera sencilla archivos separados por coma. Puedes aprender un poco más sobre cómo funciona este módulo [leyendo su documentación](https://docs.python.org/3.4/library/csv.html).\n",
    "        \n",
    "    "
   ]
  },
  {
   "cell_type": "code",
   "execution_count": 63,
   "metadata": {
    "collapsed": false
   },
   "outputs": [],
   "source": [
    "import csv\n",
    "with open('info_partidos', 'w',  encoding = \"utf-8\") as csvfile:\n",
    "    partidos = csv.writer(csvfile, dialect = \"excel\")\n",
    "    for row in info_limpia:\n",
    "        partidos.writerow(row)"
   ]
  },
  {
   "cell_type": "code",
   "execution_count": null,
   "metadata": {
    "collapsed": true
   },
   "outputs": [],
   "source": []
  }
 ],
 "metadata": {
  "kernelspec": {
   "display_name": "Python 3",
   "language": "python",
   "name": "python3"
  },
  "language_info": {
   "codemirror_mode": {
    "name": "ipython",
    "version": 3
   },
   "file_extension": ".py",
   "mimetype": "text/x-python",
   "name": "python",
   "nbconvert_exporter": "python",
   "pygments_lexer": "ipython3",
   "version": "3.4.2"
  }
 },
 "nbformat": 4,
 "nbformat_minor": 0
}
