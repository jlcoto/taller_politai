{
 "cells": [
  {
   "cell_type": "markdown",
   "metadata": {},
   "source": [
    "# Sesión 3 - Aprendamos a extraer datos de una página web\n",
    "\n",
    "En esta sesión pondremos las cosas que hemos aprendido de `Python` en práctica. Desarrollaremos una serie de comandos simples que nos permitan extraer las partes que deseamos de las páginas web. Los objetivos de esta sesión son:\n",
    "\n",
    "* Aprender la estructura básica de una página web.\n",
    "* Aprender a identificar elementos de CSS que nos facilitan la tarea de extracción de datos.\n",
    "* Identificar cómo obtener elementos de una tabla que está publicada en una página web. \n",
    "* Guardar información extraída en formato CSV. \n"
   ]
  },
  {
   "cell_type": "markdown",
   "metadata": {},
   "source": [
    "##Estructura básica de una página web\n",
    "\n",
    "Las páginas web están escritas en un lenguaje de escritura conocido como `HTML`. El `HTML` provee el esqueleto de la página web a las que después se les puede añadir elementos de estilo y programación. Saber la manera en que funciona `HTML` es esencial para saber la manera en que podemos extraer información de las páginas. De manera simple, `HTML` puede definirse como un conjunto de etiquetas y atributos que detallan cómo se verán los elementos de la página web. \n",
    "\n",
    "Abajo tienes una página web muy simple. Mira la manera en que está dispuesto el `HTML` [Haz doble click o enter en esta celda para que veas el código `HTML`]:\n",
    "\n",
    "<!DOCTYPE html>\n",
    "<html>\n",
    "\t<head>\n",
    "\t\t<title>Page Title</title>\n",
    "\t</head>\n",
    "<body>\n",
    "\n",
    "\t<h1>Mi Primer Título</h1>\n",
    "\t<p>Este es mi primer párrafo.</p>\n",
    "\t<a href=\"http://jlcoto.github.io/taller_python/\">Este es un link al blog</a>\n",
    "\n",
    "</body>\n",
    "</html>\n",
    "\n",
    "Si quieres, puedes escribir tu propio `HTML` y ver cómo se modifica automáticamente [en la siguiente página](http://www.w3schools.com/html/tryit.asp?filename=tryhtml_default).\n"
   ]
  },
  {
   "cell_type": "markdown",
   "metadata": {},
   "source": [
    "## Más que HTML\n",
    "\n",
    "Las páginas web modernas distan mucho de la simple página previamente mostrada. Normalmente las acompañan muchas reglas de estilo y algunas características que permiten al usuario interactuar con alguna plataforma. El código de `HTML` de mi repositorio llamado `index_tables.html` presenta una tabla. Nota que esta tabla está acompañado de reglas que permiten mejorar su estilo. Estas reglas se conocen como `CSS`. Exploremos el archivo antes de entrar a la extracción de datos."
   ]
  },
  {
   "cell_type": "markdown",
   "metadata": {},
   "source": [
    "## Extraigamos información de una página web\n",
    "\n",
    "Junto a los archivos que he anexado para la sesión de hoy encontrarás la página `html_basics.html`. Esta será la primera página web de la que extraigamos información. Para extraer la información de páginas web, usaremos el módulo de `Python` llamado `BeautifulSoup`. Esto hará la labor de extraer data mucho más sencilla. Asegúrate de haber descargado el módulo y de que está funcionando correctamente. Podrás leer más sobre el funcionamiento de BeautifulSoup [leyendo su documentación](http://www.crummy.com/software/BeautifulSoup/bs4/doc/). "
   ]
  },
  {
   "cell_type": "code",
   "execution_count": null,
   "metadata": {
    "collapsed": false
   },
   "outputs": [],
   "source": [
    "#Extraer el primer título"
   ]
  },
  {
   "cell_type": "code",
   "execution_count": null,
   "metadata": {
    "collapsed": false
   },
   "outputs": [],
   "source": [
    "#Extraer el primer títu sin tags\n"
   ]
  },
  {
   "cell_type": "markdown",
   "metadata": {},
   "source": [
    "## Ejercicios\n",
    "1. Imprime el segundo y tercer títulos de la página. Imprimelos sin las etiquetas `HTML`.\n",
    "2. Imprime la primera lista la de Jamón, Queso, Pan.\n"
   ]
  },
  {
   "cell_type": "code",
   "execution_count": null,
   "metadata": {
    "collapsed": true
   },
   "outputs": [],
   "source": []
  },
  {
   "cell_type": "markdown",
   "metadata": {},
   "source": [
    "## Find y FindAll\n",
    "\n",
    "Dos de los métodos más usados de BeautifulSoup son el `find` y `findAll`. El método `find` buscará la primera coincidencia de aquello que estés buscando. El findAll navegará toda la página web y te dara una **lista** que contiene todos aquellos elementos que concuerden con aquello que has solitado. Fíjate abajo y mira la diferencia entre qué obtenemos con `find` y `findAll` para obtener las listas de viñetas."
   ]
  },
  {
   "cell_type": "code",
   "execution_count": null,
   "metadata": {
    "collapsed": false
   },
   "outputs": [],
   "source": [
    "#Imprime la primera lista de la página\n"
   ]
  },
  {
   "cell_type": "code",
   "execution_count": null,
   "metadata": {
    "collapsed": false
   },
   "outputs": [],
   "source": [
    "#Imprime todas las dos listas de viñetas\n"
   ]
  },
  {
   "cell_type": "code",
   "execution_count": null,
   "metadata": {
    "collapsed": true
   },
   "outputs": [],
   "source": [
    "# Cómo accedemos a la segunda lista? Utiliza tus conocimientos de listas!"
   ]
  },
  {
   "cell_type": "markdown",
   "metadata": {},
   "source": [
    "Imagínate que queremos poner todos los productos de la primera lista en una lista de compras. "
   ]
  },
  {
   "cell_type": "code",
   "execution_count": null,
   "metadata": {
    "collapsed": false
   },
   "outputs": [],
   "source": [
    "mi_primera_lista = bsObj.findAll(\"ol\")[0].findAll(\"li\")\n",
    "print(mi_primera_lista)"
   ]
  },
  {
   "cell_type": "markdown",
   "metadata": {},
   "source": [
    "Nota dos cosas del código anterior:\n",
    "1. Puedes seguir usando llamando los métodos de BeautifulSoup sobre los elementos de la lista.\n",
    "2. Como has usado el método `findAll` dos veces, al final también obtienes una lista. \n",
    "\n",
    "Sin embargo, lo ideal al momento de guardar la data es hacerlo sin todas esas moletas etiquetas de `HTML`. ¿Qué creen que podemos hacer para eliminarlas? Si estaban pensando en usar loops, pues ¡están en lo correcto!"
   ]
  },
  {
   "cell_type": "code",
   "execution_count": null,
   "metadata": {
    "collapsed": false
   },
   "outputs": [],
   "source": [
    "#Pon todos los elementos en una lista, pero remueve todos las etiquetas innecesarias de HTML\n"
   ]
  },
  {
   "cell_type": "markdown",
   "metadata": {},
   "source": [
    "##Ejercicios\n",
    "1. Modifica el código anterior para obtener todos los elementos de la segunda lista y ponlos en una lista. Estos elementos deberán formar parte de una lista llamada `segunda_lista` y no debe contener etiquetas `HTML`. Al final, haz una lista de compras finales que contenga la primera y segunda listas.\n",
    "2. Realiza el mismo ejercicio para la lista enumerada.\n"
   ]
  },
  {
   "cell_type": "markdown",
   "metadata": {},
   "source": [
    "## Extraigamos tablas\n",
    "\n",
    "A veces tenemos la suerte de que aquello que necesitamos se encuentra en una tabla en una página web. Lastimosamente, el formato en el que se encuentra los datos de la página hace imposible que podamos trabajar con ellos. Como siempre, antes de entrar a extraer cualquier elemento de una página web, lo mejor es familiarizarte con su contenido. "
   ]
  },
  {
   "cell_type": "code",
   "execution_count": null,
   "metadata": {
    "collapsed": false
   },
   "outputs": [],
   "source": [
    "pag_web_2 = open('index_tables.html', 'r').read()\n",
    "bsObj2 = BeautifulSoup(pag_web_2, \"html.parser\")\n"
   ]
  },
  {
   "cell_type": "code",
   "execution_count": null,
   "metadata": {
    "collapsed": false
   },
   "outputs": [],
   "source": [
    "#Obteniendo los títulos de la tabla\n",
    "print(bsObj2.findAll(\"table\")[0].findAll(\"th\", {\"scope\": \"col\"}))"
   ]
  },
  {
   "cell_type": "code",
   "execution_count": null,
   "metadata": {
    "collapsed": false
   },
   "outputs": [],
   "source": [
    "#Otra forma de obtener los títulos de la tabla\n",
    "print(bsObj2.find(\"table\").find(\"thead\").findAll(\"th\"))"
   ]
  },
  {
   "cell_type": "code",
   "execution_count": null,
   "metadata": {
    "collapsed": false
   },
   "outputs": [],
   "source": [
    "print(bsObj2.find(\"table\").find(\"tbody\").findAll(\"th\", {\"scope\": \"row\"}))"
   ]
  },
  {
   "cell_type": "code",
   "execution_count": null,
   "metadata": {
    "collapsed": false
   },
   "outputs": [],
   "source": [
    "print(bsObj2.find(\"table\").find(\"tbody\").findAll(\"td\"))"
   ]
  },
  {
   "cell_type": "markdown",
   "metadata": {},
   "source": [
    "## Ejercicio\n",
    "\n",
    "1. Ahora, realiza el mismo ejercicio para la tabla 2. Primero, genera una lista con el nombre de todos las personas que aparecen en la lista. Finalmente, remueve todas las etiquetas de `HTML` de la lista final.\n",
    "2. Necesito una lista con todos los puestos y correos electrónicos de los mails obtenidos. Nuevamente, esta lista no debe contener ningún tipo de etiquetas de `HTML`.\n",
    "\n"
   ]
  },
  {
   "cell_type": "code",
   "execution_count": null,
   "metadata": {
    "collapsed": true
   },
   "outputs": [],
   "source": []
  },
  {
   "cell_type": "code",
   "execution_count": null,
   "metadata": {
    "collapsed": true
   },
   "outputs": [],
   "source": []
  },
  {
   "cell_type": "markdown",
   "metadata": {},
   "source": [
    "# ¡Vamos a la web!\n",
    "\n",
    "Hasta ahora solo hemos extraído contenido de páginas web que he creado. ¿Qué pasa cuando vamos a la jungla de la web? En el siguiente ejercicio haremos lo mismo pero usando el módulo `Requests` de `Python`. Este módulo nos permitirá analzar contenido de páginas web dentro de `Python`. Puedes leer un poco más de esta librería en la [siguiente página web](http://www.python-requests.org/en/latest/). "
   ]
  },
  {
   "cell_type": "code",
   "execution_count": null,
   "metadata": {
    "collapsed": false
   },
   "outputs": [],
   "source": [
    "import requests\n",
    "pag_wiki = requests.get(\"https://es.wikipedia.org/wiki/Partidos_pol%C3%ADticos_del_Per%C3%BA\")\n",
    "wiki_pag = BeautifulSoup(pag_wiki.text, \"html.parser\")\n",
    "\n",
    "#Agarremos el título de la página:\n",
    "wiki_pag.find(\"h1\", {\"class\":\"firstHeading\", \"lang\":\"es\"})"
   ]
  },
  {
   "cell_type": "code",
   "execution_count": null,
   "metadata": {
    "collapsed": false
   },
   "outputs": [],
   "source": [
    "#Agarremos el título de la tabla\n"
   ]
  },
  {
   "cell_type": "code",
   "execution_count": null,
   "metadata": {
    "collapsed": true
   },
   "outputs": [],
   "source": [
    "#Obtengamos el link del Jurado Nacional de Elecciones\n"
   ]
  },
  {
   "cell_type": "markdown",
   "metadata": {},
   "source": [
    "## Ejercicios:\n",
    "Utiliza lo que sabes hasta ahora para explorar un poco más la página de wikipedia.\n",
    "1. Haz una lista donde incluyas todas las coaliciones políticas que existen en el Perú.\n",
    "2. Haz una lista con las páginas que wikipedia recomienda visitar. (Bajo la sección de véase también)"
   ]
  },
  {
   "cell_type": "code",
   "execution_count": null,
   "metadata": {
    "collapsed": true
   },
   "outputs": [],
   "source": [
    "#Ejercicio 1"
   ]
  },
  {
   "cell_type": "code",
   "execution_count": null,
   "metadata": {
    "collapsed": true
   },
   "outputs": [],
   "source": [
    "#Ejercicio 2"
   ]
  },
  {
   "cell_type": "markdown",
   "metadata": {},
   "source": [
    "## No todo dicho está dicho\n",
    "\n",
    "A veces hay páginas que son más difíciles de extraer. Esto puede deberse a que el `HTML` que usan no está bien formateado, la falta de orden o que, simplemente, no existen etiquetas o atributos suficientes con los cuales poder identificar los datos que deseamos. \n",
    "\n",
    "Fíjate en el ejercicio de abajo. Se nos pide obtener una lista de los partidos políticos del Perú. ¿Cómo podemos hacerlo de manera sencilla? Trata por tu cuenta primero para ver si encuentras una buena solución. No te olvides de inspeccionar la página primero para ver si encuentras algún patrón que pueda ser de tu ayuda. ¿Se les ocurre alguna manera de hacerlo?"
   ]
  },
  {
   "cell_type": "code",
   "execution_count": null,
   "metadata": {
    "collapsed": true
   },
   "outputs": [],
   "source": []
  },
  {
   "cell_type": "code",
   "execution_count": null,
   "metadata": {
    "collapsed": true
   },
   "outputs": [],
   "source": []
  },
  {
   "cell_type": "markdown",
   "metadata": {},
   "source": [
    "## HTML es una familia...\n",
    "\n",
    "Veámos nuevamente nuestras páginas de `HTML`. Los elementos de `HTML` también se pueden ver como una familia. Esto nos puede facilitar la vida cuando no tengamos mayor referencia para extraer un elemento, salvo por su relación con otro elemento. BeautifulSoup nos ofrece una serie de métodos para poder acceder a elementos de las páginas web por sus *\"relaciones de parentesco\"*.  \n",
    "\n"
   ]
  },
  {
   "cell_type": "markdown",
   "metadata": {},
   "source": [
    "## Bajando en el árbol familiar\n",
    "\n",
    "Existen dos métodos para bajar en el árbol familiar. `.descendants` y `.children`.\n",
    "\n",
    "*  ** .descendants **: Retorna todo el contenido que esté bajo la etiqueta padre. \n",
    "*  ** .children **: Retorna solamente el primer hijo de todo aquello que se encuentre bajo la etiqueta padre.\n",
    "\n",
    "Nota que en ambos casos se retornará un elemento iterable. Solo podemos acceder a ellos a través de elementos que nos permitan la iteración (i.e. loops).\n",
    "\n",
    "Revisitemos algunos de nuestros ejercicios anteriores..."
   ]
  },
  {
   "cell_type": "code",
   "execution_count": null,
   "metadata": {
    "collapsed": true
   },
   "outputs": [],
   "source": [
    "from bs4 import BeautifulSoup \n",
    "\n",
    "pag_web = open('html_basics.html', 'r').read()\n",
    "bsObj = BeautifulSoup(pag_web, \"html.parser\")"
   ]
  },
  {
   "cell_type": "code",
   "execution_count": null,
   "metadata": {
    "collapsed": false
   },
   "outputs": [],
   "source": [
    "# Encontremos los elementos de la lista\n",
    "for child in bsObj.find(\"body\").descendants:\n",
    "    print(child)"
   ]
  },
  {
   "cell_type": "code",
   "execution_count": null,
   "metadata": {
    "collapsed": false
   },
   "outputs": [],
   "source": [
    "lista_alimentos = []\n",
    "for child in bsObj.find(\"body\").children:\n",
    "    print(child)"
   ]
  },
  {
   "cell_type": "markdown",
   "metadata": {},
   "source": [
    "## Ejercicio:\n",
    "\n",
    "* Tratemos de poner nuevamente los elementos de la primera lista en una canasta.\n",
    "\n",
    "*Nota que*: Esto puede ser un poco más complicado porque `.children` y `.descendants` retornan un iterador (solo podemos acceder a sus elementos haciendo un loop o definiendo una lista)."
   ]
  },
  {
   "cell_type": "code",
   "execution_count": null,
   "metadata": {
    "collapsed": false
   },
   "outputs": [],
   "source": [
    "# Poner los elementos de la primera lista en la canasta. \n",
    "for child in bsObj.find(\"ol\").children:\n",
    "    print(repr(child))"
   ]
  },
  {
   "cell_type": "code",
   "execution_count": null,
   "metadata": {
    "collapsed": false
   },
   "outputs": [],
   "source": [
    "# Limpiando el output que hemos obtenido\n",
    "lista_alimentacion = []\n",
    "for child in bsObj.find(\"ol\").children:\n",
    "    if child == \"\\n\":\n",
    "        continue\n",
    "    else:\n",
    "        lista_alimentacion.append(child.string)\n",
    "print(lista_alimentacion)"
   ]
  },
  {
   "cell_type": "markdown",
   "metadata": {},
   "source": [
    "## Inténtalo tú\n",
    "\n",
    "* Modifica el código anterior para agarrar todos los elementos de la segunda lista de la página. "
   ]
  },
  {
   "cell_type": "code",
   "execution_count": null,
   "metadata": {
    "collapsed": true
   },
   "outputs": [],
   "source": []
  },
  {
   "cell_type": "markdown",
   "metadata": {},
   "source": [
    "#No solamente descendientes e hijos... También padres y hermanos.\n",
    "\n",
    "También existen otras opciones para navegar una página y obtener lo que queremos `.parent`, `next_sibling` y `previous_sibling` nos ofrecen otras opciones.\n",
    "\n",
    "Nota que también existe `.parents`, `next_siblings` y `previous_sibling`. Al igual que `children` y `descendants` nos dará un iterable con todos los elementos que cumplan con esas condiciones."
   ]
  },
  {
   "cell_type": "code",
   "execution_count": null,
   "metadata": {
    "collapsed": false
   },
   "outputs": [],
   "source": [
    "# ‚¿Cuál será el padre de nuestro primer elemento de la lista?"
   ]
  },
  {
   "cell_type": "code",
   "execution_count": null,
   "metadata": {
    "collapsed": false
   },
   "outputs": [],
   "source": [
    "# ‚¿Cuál será el hermano anterior de nuestro primer elemento de la lista?\n"
   ]
  },
  {
   "cell_type": "code",
   "execution_count": null,
   "metadata": {
    "collapsed": false
   },
   "outputs": [],
   "source": [
    "# ¿Cuál es el hermano que sigue a nuestro primer elemento de la lista?"
   ]
  },
  {
   "cell_type": "markdown",
   "metadata": {},
   "source": [
    "## Regresemos a la página de Wikipedia\n",
    "\n",
    "* ¿Qué elemento es el hermano del primer elemento de la lista de coaliciones políticas?\n",
    "* Pongámoslo todo en una lista."
   ]
  },
  {
   "cell_type": "code",
   "execution_count": null,
   "metadata": {
    "collapsed": false
   },
   "outputs": [],
   "source": [
    "wiki_pag.find(\"li\").get_text()"
   ]
  },
  {
   "cell_type": "code",
   "execution_count": null,
   "metadata": {
    "collapsed": false
   },
   "outputs": [],
   "source": [
    "# Poner coaliciones politicas en una lista.\n"
   ]
  },
  {
   "cell_type": "markdown",
   "metadata": {},
   "source": [
    "## Gente que busca gente\n",
    "\n",
    "Para terminar todas las opciones de navegación que ofrece BeutifulSoup, terminaremos con algunos criterios de búsqueda. Se acuerdan que antes usamos los métodos `.find(attrs)` y `findAll(attrs)` para encontrar algunos elementos de la página que nos interesaba... lo mismo podemos hacer para padres y hermanos. Para eso puedes usar `.find_parent(attrs)`, `.find_parents(attrs)`,  `.find_next_sibling(attrs)` o  `.find_next_siblings(attrs)`... Al igual que en el caso anterior la diferencia entre usar el método en singular y en plural radica que en el singular (i.e. `.find_parent(attrs)` y `.find_next_sibling(attrs)`) se retornará el primer elemento de la página que cumpla con las especificaciones. En los otros casos, se retornará una lista con todos aquellos elementos que cumplan con las características establecidas."
   ]
  },
  {
   "cell_type": "code",
   "execution_count": null,
   "metadata": {
    "collapsed": false
   },
   "outputs": [],
   "source": [
    "wiki_pag.find(\"li\").find_next_siblings()"
   ]
  },
  {
   "cell_type": "code",
   "execution_count": null,
   "metadata": {
    "collapsed": true
   },
   "outputs": [],
   "source": [
    "# Sobre la base del ejemplo anterior genera una lista que contenga todas las coaliciones. \n",
    "# ¡¡Recuerda de quitar todas las etiquetas de HTML!!"
   ]
  },
  {
   "cell_type": "markdown",
   "metadata": {},
   "source": [
    "## Ejercicios - Tarea\n",
    "1. Repite el ejercicio anterior para la lista ordenada de la página web 'html_basics.html'.\n",
    "1. (Medio) Trata de obtener el análisis político para la región Lima de la siguiente página: http://www.infogob.com.pe/Analisis/ubigeo.aspx?IdLocalidad=1454&IdUbigeo=140000\n",
    "1. (Difícil) ¿Cuáles son los eventos de actualidad destacados por Wikipedia?\n",
    "1. (Difícil) Entra a la página web de Wikipedia y obtén la lista de fallecidos del día. Asegúrate de solo obtener el nombre. \n"
   ]
  },
  {
   "cell_type": "code",
   "execution_count": null,
   "metadata": {
    "collapsed": true
   },
   "outputs": [],
   "source": []
  },
  {
   "cell_type": "markdown",
   "metadata": {},
   "source": [
    "## Cómo obtener toda la tabla\n",
    "\n",
    "Hasta ahora solo hemos ubicado ciertos elementos de la tabla, sin embargo nostros queremos agarrar toda la tabla. Veamos cómo hacerlo siguiendo el ejemplo de la tabla de partidos políticos de wikipedia. "
   ]
  },
  {
   "cell_type": "code",
   "execution_count": null,
   "metadata": {
    "collapsed": false
   },
   "outputs": [],
   "source": [
    "#Obteniendo tabla de partidos:\n"
   ]
  },
  {
   "cell_type": "code",
   "execution_count": null,
   "metadata": {
    "collapsed": true
   },
   "outputs": [],
   "source": []
  }
 ],
 "metadata": {
  "kernelspec": {
   "display_name": "Python 3",
   "language": "python",
   "name": "python3"
  },
  "language_info": {
   "codemirror_mode": {
    "name": "ipython",
    "version": 3
   },
   "file_extension": ".py",
   "mimetype": "text/x-python",
   "name": "python",
   "nbconvert_exporter": "python",
   "pygments_lexer": "ipython3",
   "version": "3.4.2"
  }
 },
 "nbformat": 4,
 "nbformat_minor": 0
}
